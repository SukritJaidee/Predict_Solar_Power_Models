{
 "cells": [
  {
   "cell_type": "code",
   "execution_count": 1,
   "metadata": {},
   "outputs": [
    {
     "name": "stderr",
     "output_type": "stream",
     "text": [
      "Using TensorFlow backend.\n"
     ]
    }
   ],
   "source": [
    "import pandas as pd\n",
    "import io\n",
    "import requests\n",
    "import numpy as np\n",
    "import os\n",
    "from sklearn.model_selection import train_test_split\n",
    "from sklearn import metrics\n",
    "from keras.models import Sequential\n",
    "from keras.layers.core import Dense, Activation\n",
    "from keras.callbacks import EarlyStopping\n",
    "from keras.callbacks import ModelCheckpoint"
   ]
  },
  {
   "cell_type": "code",
   "execution_count": 12,
   "metadata": {},
   "outputs": [],
   "source": [
    "# Convert all missing values in the specified column to the median\n",
    "def missing_median(df, name):\n",
    "    med = df[name].median()\n",
    "    df[name] = df[name].fillna(med)\n",
    "    \n",
    "# Remove all rows where the specified column is +/- sd standard deviations\n",
    "def remove_outliers(df, name, sd):\n",
    "    drop_rows = df.index[(np.abs(df[name] - df[name].mean()) >= (sd * df[name].std()))]\n",
    "    df.drop(drop_rows, axis=0, inplace=True)\n",
    "    \n",
    "# Convert a Pandas dataframe to the x,y inputs that TensorFlow needs\n",
    "def to_xy(df, target):\n",
    "    result = []\n",
    "    for x in df.columns:\n",
    "        if x != target:\n",
    "            result.append(x)\n",
    "    # find out the type of the target column.  Is it really this hard? :(\n",
    "    target_type = df[target].dtypes\n",
    "    target_type = target_type[0] if hasattr(\n",
    "        target_type, '__iter__') else target_type\n",
    "    # Encode to int for classification, float otherwise. TensorFlow likes 32 bits.\n",
    "    if target_type in (np.int64, np.int32):\n",
    "        # Classification\n",
    "        dummies = pd.get_dummies(df[target])\n",
    "        return df.as_matrix(result).astype(np.float32), dummies.as_matrix().astype(np.float32)\n",
    "    # Regression\n",
    "    return df.as_matrix(result).astype(np.float32), df.as_matrix([target]).astype(np.float32)"
   ]
  },
  {
   "cell_type": "code",
   "execution_count": 2,
   "metadata": {},
   "outputs": [],
   "source": [
    "path = \"./data/\""
   ]
  },
  {
   "cell_type": "code",
   "execution_count": 4,
   "metadata": {},
   "outputs": [],
   "source": [
    "filename_read = os.path.join(path,\"Train_Solar.csv\")\n",
    "df = pd.read_csv(filename_read,na_values=['NA','?'])"
   ]
  },
  {
   "cell_type": "code",
   "execution_count": 5,
   "metadata": {},
   "outputs": [
    {
     "data": {
      "text/html": [
       "<div>\n",
       "<style scoped>\n",
       "    .dataframe tbody tr th:only-of-type {\n",
       "        vertical-align: middle;\n",
       "    }\n",
       "\n",
       "    .dataframe tbody tr th {\n",
       "        vertical-align: top;\n",
       "    }\n",
       "\n",
       "    .dataframe thead th {\n",
       "        text-align: right;\n",
       "    }\n",
       "</style>\n",
       "<table border=\"1\" class=\"dataframe\">\n",
       "  <thead>\n",
       "    <tr style=\"text-align: right;\">\n",
       "      <th></th>\n",
       "      <th>datetime</th>\n",
       "      <th>date</th>\n",
       "      <th>time</th>\n",
       "      <th>I</th>\n",
       "      <th>T</th>\n",
       "      <th>UV</th>\n",
       "      <th>WS</th>\n",
       "      <th>RH</th>\n",
       "      <th>P</th>\n",
       "    </tr>\n",
       "  </thead>\n",
       "  <tbody>\n",
       "    <tr>\n",
       "      <th>0</th>\n",
       "      <td>1/1/2017 6:00</td>\n",
       "      <td>1/1/2017</td>\n",
       "      <td>6:00:00</td>\n",
       "      <td>0.0</td>\n",
       "      <td>24.6</td>\n",
       "      <td>0.0</td>\n",
       "      <td>1.2</td>\n",
       "      <td>59.8</td>\n",
       "      <td>0.0</td>\n",
       "    </tr>\n",
       "  </tbody>\n",
       "</table>\n",
       "</div>"
      ],
      "text/plain": [
       "        datetime      date     time    I     T   UV   WS    RH    P\n",
       "0  1/1/2017 6:00  1/1/2017  6:00:00  0.0  24.6  0.0  1.2  59.8  0.0"
      ]
     },
     "execution_count": 5,
     "metadata": {},
     "output_type": "execute_result"
    }
   ],
   "source": [
    "df.head(1)"
   ]
  },
  {
   "cell_type": "code",
   "execution_count": 7,
   "metadata": {},
   "outputs": [],
   "source": [
    "# create feature vector\n",
    "missing_median(df, 'I')\n",
    "missing_median(df, 'T')\n",
    "missing_median(df, 'UV')\n",
    "missing_median(df, 'WS')\n",
    "missing_median(df, 'P')\n",
    "df.drop('datetime',1,inplace=True)\n",
    "df.drop('date',1,inplace=True)\n",
    "df.drop('time',1,inplace=True)"
   ]
  },
  {
   "cell_type": "code",
   "execution_count": 8,
   "metadata": {},
   "outputs": [
    {
     "data": {
      "text/html": [
       "<div>\n",
       "<style scoped>\n",
       "    .dataframe tbody tr th:only-of-type {\n",
       "        vertical-align: middle;\n",
       "    }\n",
       "\n",
       "    .dataframe tbody tr th {\n",
       "        vertical-align: top;\n",
       "    }\n",
       "\n",
       "    .dataframe thead th {\n",
       "        text-align: right;\n",
       "    }\n",
       "</style>\n",
       "<table border=\"1\" class=\"dataframe\">\n",
       "  <thead>\n",
       "    <tr style=\"text-align: right;\">\n",
       "      <th></th>\n",
       "      <th>I</th>\n",
       "      <th>T</th>\n",
       "      <th>UV</th>\n",
       "      <th>WS</th>\n",
       "      <th>RH</th>\n",
       "      <th>P</th>\n",
       "    </tr>\n",
       "  </thead>\n",
       "  <tbody>\n",
       "    <tr>\n",
       "      <th>0</th>\n",
       "      <td>0.0</td>\n",
       "      <td>24.6</td>\n",
       "      <td>0.0</td>\n",
       "      <td>1.2</td>\n",
       "      <td>59.8</td>\n",
       "      <td>0.0</td>\n",
       "    </tr>\n",
       "  </tbody>\n",
       "</table>\n",
       "</div>"
      ],
      "text/plain": [
       "     I     T   UV   WS    RH    P\n",
       "0  0.0  24.6  0.0  1.2  59.8  0.0"
      ]
     },
     "execution_count": 8,
     "metadata": {},
     "output_type": "execute_result"
    }
   ],
   "source": [
    "df.head(1)"
   ]
  },
  {
   "cell_type": "code",
   "execution_count": 11,
   "metadata": {},
   "outputs": [
    {
     "name": "stdout",
     "output_type": "stream",
     "text": [
      "Length before P outliers dropped: 131586\n",
      "Length after P outliers dropped: 129577\n"
     ]
    }
   ],
   "source": [
    "# Drop outliers in horsepower\n",
    "print(\"Length before P outliers dropped: {}\".format(len(df)))\n",
    "remove_outliers(df,'P',2)\n",
    "print(\"Length after P outliers dropped: {}\".format(len(df)))"
   ]
  },
  {
   "cell_type": "code",
   "execution_count": 14,
   "metadata": {},
   "outputs": [
    {
     "name": "stderr",
     "output_type": "stream",
     "text": [
      "/usr/local/lib/python3.6/dist-packages/ipykernel_launcher.py:27: FutureWarning: Method .as_matrix will be removed in a future version. Use .values instead.\n"
     ]
    }
   ],
   "source": [
    "x,y = to_xy(df,\"P\")"
   ]
  },
  {
   "cell_type": "code",
   "execution_count": 15,
   "metadata": {},
   "outputs": [
    {
     "name": "stdout",
     "output_type": "stream",
     "text": [
      "[[ 0.    24.6    0.     1.2   59.8  ]\n",
      " [ 0.    24.5    0.     1.4   60.   ]\n",
      " [ 0.    24.5    0.     1.9   60.2  ]\n",
      " [ 0.    24.5    0.     1.3   60.3  ]\n",
      " [ 0.    24.6    0.     1.4   60.125]]\n"
     ]
    }
   ],
   "source": [
    "print(x[0:5])"
   ]
  },
  {
   "cell_type": "code",
   "execution_count": 16,
   "metadata": {},
   "outputs": [
    {
     "name": "stdout",
     "output_type": "stream",
     "text": [
      "[[0.]\n",
      " [0.]\n",
      " [0.]\n",
      " [0.]\n",
      " [0.]]\n"
     ]
    }
   ],
   "source": [
    "print(y[0:5])"
   ]
  },
  {
   "cell_type": "code",
   "execution_count": 17,
   "metadata": {},
   "outputs": [],
   "source": [
    "# Split into train/test\n",
    "x_train, x_test, y_train, y_test = train_test_split(    \n",
    "    x, y, test_size=0.25, random_state=42)"
   ]
  },
  {
   "cell_type": "code",
   "execution_count": 18,
   "metadata": {},
   "outputs": [],
   "source": [
    "model = Sequential()\n",
    "model.add(Dense(50, input_dim=x.shape[1], activation='relu'))\n",
    "model.add(Dense(25,activation='relu'))\n",
    "model.add(Dense(1)) # Output"
   ]
  },
  {
   "cell_type": "code",
   "execution_count": 19,
   "metadata": {},
   "outputs": [],
   "source": [
    "model.compile(loss='mean_squared_error', optimizer='adam')"
   ]
  },
  {
   "cell_type": "code",
   "execution_count": 20,
   "metadata": {},
   "outputs": [],
   "source": [
    "monitor = EarlyStopping(monitor='val_loss', min_delta=1e-3, patience=5, verbose=1, mode='auto')"
   ]
  },
  {
   "cell_type": "code",
   "execution_count": 22,
   "metadata": {},
   "outputs": [],
   "source": [
    "checkpointer = ModelCheckpoint(filepath=\"R3_model.hdf5\", verbose=0, save_best_only=True) # save best model"
   ]
  },
  {
   "cell_type": "code",
   "execution_count": 23,
   "metadata": {},
   "outputs": [
    {
     "name": "stdout",
     "output_type": "stream",
     "text": [
      "Train on 129577 samples, validate on 32395 samples\n",
      "Epoch 1/1000\n",
      " - 6s - loss: 1.5552 - val_loss: 0.2684\n",
      "Epoch 2/1000\n",
      " - 5s - loss: 0.5589 - val_loss: 0.2605\n",
      "Epoch 3/1000\n",
      " - 5s - loss: 0.4576 - val_loss: 0.2574\n",
      "Epoch 4/1000\n",
      " - 4s - loss: 0.4391 - val_loss: 0.3998\n",
      "Epoch 5/1000\n",
      " - 5s - loss: 0.3602 - val_loss: 0.2504\n",
      "Epoch 6/1000\n",
      " - 5s - loss: 0.3573 - val_loss: 0.3400\n",
      "Epoch 7/1000\n",
      " - 5s - loss: 0.3154 - val_loss: 0.2407\n",
      "Epoch 8/1000\n",
      " - 4s - loss: 0.3028 - val_loss: 0.5103\n",
      "Epoch 9/1000\n",
      " - 5s - loss: 0.2855 - val_loss: 0.2700\n",
      "Epoch 10/1000\n",
      " - 5s - loss: 0.2746 - val_loss: 0.2409\n",
      "Epoch 11/1000\n",
      " - 5s - loss: 0.2621 - val_loss: 0.2690\n",
      "Epoch 12/1000\n",
      " - 4s - loss: 0.2541 - val_loss: 0.2291\n",
      "Epoch 13/1000\n",
      " - 5s - loss: 0.2481 - val_loss: 0.2424\n",
      "Epoch 14/1000\n",
      " - 5s - loss: 0.2404 - val_loss: 0.2273\n",
      "Epoch 15/1000\n",
      " - 5s - loss: 0.2355 - val_loss: 0.2536\n",
      "Epoch 16/1000\n",
      " - 5s - loss: 0.2322 - val_loss: 0.2249\n",
      "Epoch 17/1000\n",
      " - 4s - loss: 0.2289 - val_loss: 0.2240\n",
      "Epoch 18/1000\n",
      " - 5s - loss: 0.2262 - val_loss: 0.2194\n",
      "Epoch 19/1000\n",
      " - 5s - loss: 0.2245 - val_loss: 0.2194\n",
      "Epoch 20/1000\n",
      " - 5s - loss: 0.2221 - val_loss: 0.2279\n",
      "Epoch 21/1000\n",
      " - 5s - loss: 0.2207 - val_loss: 0.2221\n",
      "Epoch 22/1000\n",
      " - 5s - loss: 0.2193 - val_loss: 0.2155\n",
      "Epoch 23/1000\n",
      " - 5s - loss: 0.2188 - val_loss: 0.2169\n",
      "Epoch 24/1000\n",
      " - 5s - loss: 0.2176 - val_loss: 0.2189\n",
      "Epoch 25/1000\n",
      " - 4s - loss: 0.2166 - val_loss: 0.2137\n",
      "Epoch 26/1000\n",
      " - 5s - loss: 0.2164 - val_loss: 0.2125\n",
      "Epoch 27/1000\n",
      " - 5s - loss: 0.2156 - val_loss: 0.2152\n",
      "Epoch 28/1000\n",
      " - 5s - loss: 0.2152 - val_loss: 0.2237\n",
      "Epoch 29/1000\n",
      " - 4s - loss: 0.2151 - val_loss: 0.2132\n",
      "Epoch 30/1000\n",
      " - 5s - loss: 0.2146 - val_loss: 0.2102\n",
      "Epoch 31/1000\n",
      " - 5s - loss: 0.2144 - val_loss: 0.2160\n",
      "Epoch 32/1000\n",
      " - 5s - loss: 0.2143 - val_loss: 0.2120\n",
      "Epoch 33/1000\n",
      " - 5s - loss: 0.2140 - val_loss: 0.2138\n",
      "Epoch 34/1000\n",
      " - 4s - loss: 0.2138 - val_loss: 0.2166\n",
      "Epoch 35/1000\n",
      " - 5s - loss: 0.2129 - val_loss: 0.2228\n",
      "Epoch 00035: early stopping\n"
     ]
    },
    {
     "data": {
      "text/plain": [
       "<keras.callbacks.History at 0x7f1f95950fd0>"
      ]
     },
     "execution_count": 23,
     "metadata": {},
     "output_type": "execute_result"
    }
   ],
   "source": [
    "model.fit(x,y,validation_data=(x_test,y_test),callbacks=[monitor,checkpointer],verbose=2,epochs=1000)"
   ]
  },
  {
   "cell_type": "code",
   "execution_count": 24,
   "metadata": {},
   "outputs": [],
   "source": [
    "model.load_weights('R3_model.hdf5') # load weights from best model"
   ]
  },
  {
   "cell_type": "code",
   "execution_count": 25,
   "metadata": {},
   "outputs": [
    {
     "name": "stdout",
     "output_type": "stream",
     "text": [
      "[[0.39993858]\n",
      " [0.04938626]\n",
      " [1.0200776 ]\n",
      " [1.8141118 ]\n",
      " [0.20206189]]\n"
     ]
    }
   ],
   "source": [
    "from sklearn import metrics\n",
    "import tensorflow as tf\n",
    "\n",
    "pred = model.predict(x_test)\n",
    "print(pred[0:5]) # print first five predictions"
   ]
  },
  {
   "cell_type": "code",
   "execution_count": 26,
   "metadata": {},
   "outputs": [
    {
     "name": "stdout",
     "output_type": "stream",
     "text": [
      "Before save score (RMSE): 0.4584360718727112\n"
     ]
    }
   ],
   "source": [
    "# Measure RMSE error.  RMSE is common for regression.\n",
    "score = np.sqrt(metrics.mean_squared_error(pred,y_test))\n",
    "print(f\"Before save score (RMSE): {score}\")"
   ]
  },
  {
   "cell_type": "code",
   "execution_count": 27,
   "metadata": {},
   "outputs": [],
   "source": [
    "# save entire network to HDF5 (save everything, suggested)\n",
    "model.save(os.path.join(path,\"R3_model.h5\"))"
   ]
  },
  {
   "cell_type": "code",
   "execution_count": 28,
   "metadata": {},
   "outputs": [],
   "source": [
    "# save neural network structure to JSON (no weights)\n",
    "model_json = model.to_json()\n",
    "with open(os.path.join(path,\"R3_model.json\"), \"w\") as json_file:\n",
    "    json_file.write(model_json)"
   ]
  },
  {
   "cell_type": "code",
   "execution_count": 29,
   "metadata": {},
   "outputs": [],
   "source": [
    "# save neural network structure to YAML (no weights)\n",
    "model_yaml = model.to_yaml()\n",
    "with open(os.path.join(path,\"R3_model.yaml\"), \"w\") as yaml_file:\n",
    "    yaml_file.write(model_yaml)"
   ]
  }
 ],
 "metadata": {
  "kernelspec": {
   "display_name": "Python 3",
   "language": "python",
   "name": "python3"
  },
  "language_info": {
   "codemirror_mode": {
    "name": "ipython",
    "version": 3
   },
   "file_extension": ".py",
   "mimetype": "text/x-python",
   "name": "python",
   "nbconvert_exporter": "python",
   "pygments_lexer": "ipython3",
   "version": "3.6.6"
  }
 },
 "nbformat": 4,
 "nbformat_minor": 2
}

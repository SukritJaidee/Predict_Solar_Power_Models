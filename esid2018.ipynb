{
  "nbformat": 4,
  "nbformat_minor": 0,
  "metadata": {
    "colab": {
      "name": "esid2018.ipynb",
      "version": "0.3.2",
      "provenance": [],
      "collapsed_sections": []
    },
    "kernelspec": {
      "name": "python3",
      "display_name": "Python 3"
    },
    "accelerator": "GPU"
  },
  "cells": [
    {
      "metadata": {
        "id": "31GocVslf2IF",
        "colab_type": "text"
      },
      "cell_type": "markdown",
      "source": [
        "##Don't close this browser tab while your project is running.\n",
        "\n",
        "**Run the code block below to start your Clouderizer project. **"
      ]
    },
    {
      "metadata": {
        "id": "1rzBxzOrf2yX",
        "colab_type": "code",
        "colab": {}
      },
      "cell_type": "code",
      "source": [
        "!wget -NS --content-disposition \"https://console.clouderizer.com/givemecolabinit\"\n",
        "import colab\n",
        "colab.init()\n",
        "!wget -NS --content-disposition \"https://console.clouderizer.com/givemeinitsh/mNx00s1q\" && bash ./clouderizer_init.sh"
      ],
      "execution_count": 0,
      "outputs": []
    }
  ]
}
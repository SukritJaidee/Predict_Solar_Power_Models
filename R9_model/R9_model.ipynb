{
 "cells": [
  {
   "cell_type": "code",
   "execution_count": 1,
   "metadata": {},
   "outputs": [
    {
     "name": "stderr",
     "output_type": "stream",
     "text": [
      "Using TensorFlow backend.\n"
     ]
    }
   ],
   "source": [
    "import os\n",
    "import pandas as pd\n",
    "from sklearn.model_selection import train_test_split\n",
    "import tensorflow as tf\n",
    "import numpy as np\n",
    "from tensorflow.contrib.learn.python.learn.metric_spec import MetricSpec\n",
    "from keras.models import Sequential\n",
    "from keras.layers.core import Dense, Activation\n",
    "from keras.callbacks import EarlyStopping"
   ]
  },
  {
   "cell_type": "code",
   "execution_count": 2,
   "metadata": {},
   "outputs": [],
   "source": [
    "from sklearn import preprocessing\n",
    "import matplotlib.pyplot as plt\n",
    "import numpy as np\n",
    "import pandas as pd\n",
    "import shutil\n",
    "import os\n",
    "import requests\n",
    "import base64\n",
    "\n",
    "\n",
    "# Encode text values to dummy variables(i.e. [1,0,0],[0,1,0],[0,0,1] for red,green,blue)\n",
    "def encode_text_dummy(df, name):\n",
    "    dummies = pd.get_dummies(df[name])\n",
    "    for x in dummies.columns:\n",
    "        dummy_name = \"{}-{}\".format(name, x)\n",
    "        df[dummy_name] = dummies[x]\n",
    "    df.drop(name, axis=1, inplace=True)\n",
    "\n",
    "\n",
    "# Encode text values to a single dummy variable.  The new columns (which do not replace the old) will have a 1\n",
    "# at every location where the original column (name) matches each of the target_values.  One column is added for\n",
    "# each target value.\n",
    "def encode_text_single_dummy(df, name, target_values):\n",
    "    for tv in target_values:\n",
    "        l = list(df[name].astype(str))\n",
    "        l = [1 if str(x) == str(tv) else 0 for x in l]\n",
    "        name2 = \"{}-{}\".format(name, tv)\n",
    "        df[name2] = l\n",
    "\n",
    "\n",
    "# Encode text values to indexes(i.e. [1],[2],[3] for red,green,blue).\n",
    "def encode_text_index(df, name):\n",
    "    le = preprocessing.LabelEncoder()\n",
    "    df[name] = le.fit_transform(df[name])\n",
    "    return le.classes_\n",
    "\n",
    "\n",
    "# Encode a numeric column as zscores\n",
    "def encode_numeric_zscore(df, name, mean=None, sd=None):\n",
    "    if mean is None:\n",
    "        mean = df[name].mean()\n",
    "\n",
    "    if sd is None:\n",
    "        sd = df[name].std()\n",
    "\n",
    "    df[name] = (df[name] - mean) / sd\n",
    "\n",
    "\n",
    "# Convert all missing values in the specified column to the median\n",
    "def missing_median(df, name):\n",
    "    med = df[name].median()\n",
    "    df[name] = df[name].fillna(med)\n",
    "\n",
    "\n",
    "# Convert all missing values in the specified column to the default\n",
    "def missing_default(df, name, default_value):\n",
    "    df[name] = df[name].fillna(default_value)\n",
    "\n",
    "\n",
    "# Convert a Pandas dataframe to the x,y inputs that TensorFlow needs\n",
    "def to_xy(df, target):\n",
    "    result = []\n",
    "    for x in df.columns:\n",
    "        if x != target:\n",
    "            result.append(x)\n",
    "    # find out the type of the target column.  Is it really this hard? :(\n",
    "    target_type = df[target].dtypes\n",
    "    target_type = target_type[0] if hasattr(target_type, '__iter__') else target_type\n",
    "    # Encode to int for classification, float otherwise. TensorFlow likes 32 bits.\n",
    "    if target_type in (np.int64, np.int32):\n",
    "        # Classification\n",
    "        dummies = pd.get_dummies(df[target])\n",
    "        return df.as_matrix(result).astype(np.float32), dummies.as_matrix().astype(np.float32)\n",
    "    else:\n",
    "        # Regression\n",
    "        return df.as_matrix(result).astype(np.float32), df.as_matrix([target]).astype(np.float32)\n",
    "\n",
    "# Nicely formatted time string\n",
    "def hms_string(sec_elapsed):\n",
    "    h = int(sec_elapsed / (60 * 60))\n",
    "    m = int((sec_elapsed % (60 * 60)) / 60)\n",
    "    s = sec_elapsed % 60\n",
    "    return \"{}:{:>02}:{:>05.2f}\".format(h, m, s)\n",
    "\n",
    "\n",
    "# Regression chart.\n",
    "def chart_regression(pred,y,sort=True):\n",
    "    t = pd.DataFrame({'pred' : pred, 'y' : y.flatten()})\n",
    "    if sort:\n",
    "        t.sort_values(by=['y'],inplace=True)\n",
    "    a = plt.plot(t['y'].tolist(),label='expected')\n",
    "    b = plt.plot(t['pred'].tolist(),label='prediction')\n",
    "    plt.ylabel('output')\n",
    "    plt.legend()\n",
    "    plt.show()\n",
    "\n",
    "# Remove all rows where the specified column is +/- sd standard deviations\n",
    "def remove_outliers(df, name, sd):\n",
    "    drop_rows = df.index[(np.abs(df[name] - df[name].mean()) >= (sd * df[name].std()))]\n",
    "    df.drop(drop_rows, axis=0, inplace=True)\n",
    "\n",
    "\n",
    "# Encode a column to a range between normalized_low and normalized_high.\n",
    "def encode_numeric_range(df, name, normalized_low=-1, normalized_high=1,\n",
    "                         data_low=None, data_high=None):\n",
    "    if data_low is None:\n",
    "        data_low = min(df[name])\n",
    "        data_high = max(df[name])\n",
    "\n",
    "    df[name] = ((df[name] - data_low) / (data_high - data_low)) \\\n",
    "               * (normalized_high - normalized_low) + normalized_low\n",
    "        \n",
    "# This function submits an assignment.  You can submit an assignment as much as you like, only the final\n",
    "# submission counts.  The paramaters are as follows:"
   ]
  },
  {
   "cell_type": "code",
   "execution_count": 3,
   "metadata": {},
   "outputs": [],
   "source": [
    "path = \"./data/\""
   ]
  },
  {
   "cell_type": "code",
   "execution_count": 40,
   "metadata": {},
   "outputs": [],
   "source": [
    "filename_train = os.path.join(path,\"Train_Solar.csv\")\n",
    "filename_test = os.path.join(path,\"Test_Solar.csv\")\n",
    "filename_submit = os.path.join(path,\"R9_model_submit.csv\")"
   ]
  },
  {
   "cell_type": "code",
   "execution_count": 8,
   "metadata": {},
   "outputs": [],
   "source": [
    "df = pd.read_csv(filename_train,na_values=['NA','?'])"
   ]
  },
  {
   "cell_type": "code",
   "execution_count": 9,
   "metadata": {},
   "outputs": [
    {
     "data": {
      "text/html": [
       "<div>\n",
       "<style scoped>\n",
       "    .dataframe tbody tr th:only-of-type {\n",
       "        vertical-align: middle;\n",
       "    }\n",
       "\n",
       "    .dataframe tbody tr th {\n",
       "        vertical-align: top;\n",
       "    }\n",
       "\n",
       "    .dataframe thead th {\n",
       "        text-align: right;\n",
       "    }\n",
       "</style>\n",
       "<table border=\"1\" class=\"dataframe\">\n",
       "  <thead>\n",
       "    <tr style=\"text-align: right;\">\n",
       "      <th></th>\n",
       "      <th>datetime</th>\n",
       "      <th>date</th>\n",
       "      <th>time</th>\n",
       "      <th>I</th>\n",
       "      <th>T</th>\n",
       "      <th>UV</th>\n",
       "      <th>WS</th>\n",
       "      <th>RH</th>\n",
       "      <th>P</th>\n",
       "    </tr>\n",
       "  </thead>\n",
       "  <tbody>\n",
       "    <tr>\n",
       "      <th>0</th>\n",
       "      <td>1/1/2017 6:00</td>\n",
       "      <td>1/1/2017</td>\n",
       "      <td>6:00:00</td>\n",
       "      <td>0.0</td>\n",
       "      <td>24.6</td>\n",
       "      <td>0.0</td>\n",
       "      <td>1.2</td>\n",
       "      <td>59.8</td>\n",
       "      <td>0.0</td>\n",
       "    </tr>\n",
       "  </tbody>\n",
       "</table>\n",
       "</div>"
      ],
      "text/plain": [
       "        datetime      date     time    I     T   UV   WS    RH    P\n",
       "0  1/1/2017 6:00  1/1/2017  6:00:00  0.0  24.6  0.0  1.2  59.8  0.0"
      ]
     },
     "execution_count": 9,
     "metadata": {},
     "output_type": "execute_result"
    }
   ],
   "source": [
    "df.head(1)"
   ]
  },
  {
   "cell_type": "code",
   "execution_count": 10,
   "metadata": {},
   "outputs": [],
   "source": [
    "# Preprocess\n",
    "datetime_sr = df['datetime']\n",
    "date_sr = df['date']\n",
    "time_sr = df['time']\n",
    "df.drop('datetime',1,inplace=True)\n",
    "df.drop('date',1,inplace=True)\n",
    "df.drop('time',1,inplace=True)\n",
    "missing_median(df, 'I')\n",
    "missing_median(df, 'T')\n",
    "missing_median(df, 'UV')\n",
    "missing_median(df, 'WS')\n",
    "missing_median(df, 'RH')\n",
    "missing_median(df, 'P')"
   ]
  },
  {
   "cell_type": "code",
   "execution_count": 13,
   "metadata": {},
   "outputs": [
    {
     "data": {
      "text/html": [
       "<div>\n",
       "<style scoped>\n",
       "    .dataframe tbody tr th:only-of-type {\n",
       "        vertical-align: middle;\n",
       "    }\n",
       "\n",
       "    .dataframe tbody tr th {\n",
       "        vertical-align: top;\n",
       "    }\n",
       "\n",
       "    .dataframe thead th {\n",
       "        text-align: right;\n",
       "    }\n",
       "</style>\n",
       "<table border=\"1\" class=\"dataframe\">\n",
       "  <thead>\n",
       "    <tr style=\"text-align: right;\">\n",
       "      <th></th>\n",
       "      <th>I</th>\n",
       "      <th>T</th>\n",
       "      <th>UV</th>\n",
       "      <th>WS</th>\n",
       "      <th>RH</th>\n",
       "      <th>P</th>\n",
       "    </tr>\n",
       "  </thead>\n",
       "  <tbody>\n",
       "    <tr>\n",
       "      <th>0</th>\n",
       "      <td>0.0</td>\n",
       "      <td>24.6</td>\n",
       "      <td>0.0</td>\n",
       "      <td>1.2</td>\n",
       "      <td>59.8</td>\n",
       "      <td>0.0</td>\n",
       "    </tr>\n",
       "  </tbody>\n",
       "</table>\n",
       "</div>"
      ],
      "text/plain": [
       "     I     T   UV   WS    RH    P\n",
       "0  0.0  24.6  0.0  1.2  59.8  0.0"
      ]
     },
     "execution_count": 13,
     "metadata": {},
     "output_type": "execute_result"
    }
   ],
   "source": [
    "df.head(1)"
   ]
  },
  {
   "cell_type": "code",
   "execution_count": 17,
   "metadata": {},
   "outputs": [],
   "source": [
    "# Encode feature vector\n",
    "encode_numeric_zscore(df,'I')\n",
    "encode_numeric_zscore(df,'T')\n",
    "encode_numeric_zscore(df,'UV')\n",
    "encode_numeric_zscore(df,'WS')\n",
    "encode_numeric_zscore(df,'RH')\n",
    "encode_numeric_zscore(df,'P')"
   ]
  },
  {
   "cell_type": "code",
   "execution_count": 18,
   "metadata": {},
   "outputs": [
    {
     "data": {
      "text/html": [
       "<div>\n",
       "<style scoped>\n",
       "    .dataframe tbody tr th:only-of-type {\n",
       "        vertical-align: middle;\n",
       "    }\n",
       "\n",
       "    .dataframe tbody tr th {\n",
       "        vertical-align: top;\n",
       "    }\n",
       "\n",
       "    .dataframe thead th {\n",
       "        text-align: right;\n",
       "    }\n",
       "</style>\n",
       "<table border=\"1\" class=\"dataframe\">\n",
       "  <thead>\n",
       "    <tr style=\"text-align: right;\">\n",
       "      <th></th>\n",
       "      <th>I</th>\n",
       "      <th>T</th>\n",
       "      <th>UV</th>\n",
       "      <th>WS</th>\n",
       "      <th>RH</th>\n",
       "      <th>P</th>\n",
       "    </tr>\n",
       "  </thead>\n",
       "  <tbody>\n",
       "    <tr>\n",
       "      <th>0</th>\n",
       "      <td>-1.266025</td>\n",
       "      <td>-1.834943</td>\n",
       "      <td>-1.033735</td>\n",
       "      <td>-0.873197</td>\n",
       "      <td>-0.06007</td>\n",
       "      <td>-1.207254</td>\n",
       "    </tr>\n",
       "  </tbody>\n",
       "</table>\n",
       "</div>"
      ],
      "text/plain": [
       "          I         T        UV        WS       RH         P\n",
       "0 -1.266025 -1.834943 -1.033735 -0.873197 -0.06007 -1.207254"
      ]
     },
     "execution_count": 18,
     "metadata": {},
     "output_type": "execute_result"
    }
   ],
   "source": [
    "df.head(1)"
   ]
  },
  {
   "cell_type": "code",
   "execution_count": 19,
   "metadata": {},
   "outputs": [
    {
     "name": "stderr",
     "output_type": "stream",
     "text": [
      "/usr/local/lib/python3.6/dist-packages/ipykernel_launcher.py:76: FutureWarning: Method .as_matrix will be removed in a future version. Use .values instead.\n"
     ]
    }
   ],
   "source": [
    "# Create the x-side (feature vectors) of the training\n",
    "x, y = to_xy(df,'P')"
   ]
  },
  {
   "cell_type": "code",
   "execution_count": 20,
   "metadata": {},
   "outputs": [
    {
     "name": "stdout",
     "output_type": "stream",
     "text": [
      "[[-1.2660252  -1.8349428  -1.033735   -0.8731968  -0.06006984]\n",
      " [-1.2660252  -1.8641144  -1.033735   -0.8319761  -0.03727285]\n",
      " [-1.2660252  -1.8641144  -1.033735   -0.7289245  -0.01447585]\n",
      " [-1.2660252  -1.8641144  -1.033735   -0.85258645 -0.00307735]\n",
      " [-1.2660252  -1.8349428  -1.033735   -0.8319761  -0.02302472]]\n"
     ]
    }
   ],
   "source": [
    "print(x[:5])"
   ]
  },
  {
   "cell_type": "code",
   "execution_count": 21,
   "metadata": {},
   "outputs": [
    {
     "name": "stdout",
     "output_type": "stream",
     "text": [
      "[[-1.2072536]\n",
      " [-1.2072536]\n",
      " [-1.2072536]\n",
      " [-1.2072536]\n",
      " [-1.2072536]]\n"
     ]
    }
   ],
   "source": [
    "print(y[:5])"
   ]
  },
  {
   "cell_type": "code",
   "execution_count": 22,
   "metadata": {},
   "outputs": [],
   "source": [
    "# Split into train/test\n",
    "x_train, x_test, y_train, y_test = train_test_split(    \n",
    "    x, y, test_size=0.25, random_state=45)"
   ]
  },
  {
   "cell_type": "code",
   "execution_count": 23,
   "metadata": {},
   "outputs": [],
   "source": [
    "model = Sequential()\n",
    "model.add(Dense(20, input_dim=x.shape[1], activation='relu'))\n",
    "model.add(Dense(5, activation='relu'))\n",
    "model.add(Dense(1))\n",
    "model.compile(loss='mean_squared_error', optimizer='adam')\n",
    "monitor = EarlyStopping(monitor='val_loss', min_delta=1e-3, patience=5, verbose=1, mode='auto')"
   ]
  },
  {
   "cell_type": "code",
   "execution_count": 24,
   "metadata": {},
   "outputs": [
    {
     "name": "stdout",
     "output_type": "stream",
     "text": [
      "Epoch 00015: early stopping\n"
     ]
    },
    {
     "data": {
      "text/plain": [
       "<keras.callbacks.History at 0x7f0849517668>"
      ]
     },
     "execution_count": 24,
     "metadata": {},
     "output_type": "execute_result"
    }
   ],
   "source": [
    "model.fit(x_train,y_train,validation_data=(x_test,y_test),callbacks=[monitor],verbose=0,epochs=1000)"
   ]
  },
  {
   "cell_type": "code",
   "execution_count": 28,
   "metadata": {},
   "outputs": [
    {
     "name": "stdout",
     "output_type": "stream",
     "text": [
      "[[-0.7943424 ]\n",
      " [-1.2462273 ]\n",
      " [ 0.29541883]\n",
      " [-0.21669059]\n",
      " [ 1.3340166 ]]\n"
     ]
    }
   ],
   "source": [
    "from sklearn import metrics\n",
    "import tensorflow as tf\n",
    "\n",
    "pred = model.predict(x_test)\n",
    "print(pred[0:5]) # print first five predictions"
   ]
  },
  {
   "cell_type": "code",
   "execution_count": 29,
   "metadata": {},
   "outputs": [
    {
     "name": "stdout",
     "output_type": "stream",
     "text": [
      "Before save score (RMSE): 0.262766033411026\n"
     ]
    }
   ],
   "source": [
    "# Measure RMSE error.  RMSE is common for regression.\n",
    "score = np.sqrt(metrics.mean_squared_error(pred,y_test))\n",
    "print(f\"Before save score (RMSE): {score}\")"
   ]
  },
  {
   "cell_type": "code",
   "execution_count": 30,
   "metadata": {},
   "outputs": [
    {
     "name": "stdout",
     "output_type": "stream",
     "text": [
      "Log loss score: 0.262766033411026\n"
     ]
    }
   ],
   "source": [
    "from sklearn import metrics\n",
    "\n",
    "# Calculate multi log loss error\n",
    "pred = model.predict(x_test)\n",
    "score = np.sqrt(metrics.mean_squared_error(pred,y_test))\n",
    "print(\"Log loss score: {}\".format(score))"
   ]
  },
  {
   "cell_type": "code",
   "execution_count": 31,
   "metadata": {},
   "outputs": [],
   "source": [
    "# save entire network to HDF5 (save everything, suggested)\n",
    "model.save(os.path.join(path,\"R9_model.h5\"))"
   ]
  },
  {
   "cell_type": "code",
   "execution_count": 32,
   "metadata": {},
   "outputs": [],
   "source": [
    "# save neural network structure to JSON (no weights)\n",
    "model_json = model.to_json()\n",
    "with open(os.path.join(path,\"R9_model.json\"), \"w\") as json_file:\n",
    "    json_file.write(model_json)"
   ]
  },
  {
   "cell_type": "code",
   "execution_count": 33,
   "metadata": {},
   "outputs": [],
   "source": [
    "# save neural network structure to YAML (no weights)\n",
    "model_yaml = model.to_yaml()\n",
    "with open(os.path.join(path,\"R9_model.yaml\"), \"w\") as yaml_file:\n",
    "    yaml_file.write(model_yaml)"
   ]
  },
  {
   "cell_type": "code",
   "execution_count": 44,
   "metadata": {},
   "outputs": [
    {
     "name": "stderr",
     "output_type": "stream",
     "text": [
      "/usr/local/lib/python3.6/dist-packages/ipykernel_launcher.py:21: FutureWarning: Method .as_matrix will be removed in a future version. Use .values instead.\n"
     ]
    },
    {
     "name": "stdout",
     "output_type": "stream",
     "text": [
      "              datetime         P\n",
      "0       25/4/2018 6:00 -1.189795\n",
      "1       25/4/2018 6:03 -1.204225\n",
      "2       25/4/2018 6:06 -1.203490\n",
      "3       25/4/2018 6:09 -1.187441\n",
      "4       25/4/2018 6:12 -1.186466\n",
      "5       25/4/2018 6:15 -1.177815\n",
      "6       25/4/2018 6:18 -1.172377\n",
      "7       25/4/2018 6:21 -1.163585\n",
      "8       25/4/2018 6:24 -1.153028\n",
      "9       25/4/2018 6:27 -1.143201\n",
      "10      25/4/2018 6:30 -1.089999\n",
      "11      25/4/2018 6:33 -1.082695\n",
      "12      25/4/2018 6:36 -1.081636\n",
      "13      25/4/2018 6:39 -1.090471\n",
      "14      25/4/2018 6:42 -1.066575\n",
      "15      25/4/2018 6:45 -1.060502\n",
      "16      25/4/2018 6:48 -1.036969\n",
      "17      25/4/2018 6:51 -0.997887\n",
      "18      25/4/2018 6:54 -0.991324\n",
      "19      25/4/2018 6:57 -0.984569\n",
      "20      25/4/2018 7:00 -0.979134\n",
      "21      25/4/2018 7:03 -0.974912\n",
      "22      25/4/2018 7:06 -0.944184\n",
      "23      25/4/2018 7:09 -0.918789\n",
      "24      25/4/2018 7:12 -0.898468\n",
      "25      25/4/2018 7:15 -0.876635\n",
      "26      25/4/2018 7:18 -0.865370\n",
      "27      25/4/2018 7:21 -0.895136\n",
      "28      25/4/2018 7:24 -0.932432\n",
      "29      25/4/2018 7:27 -0.959264\n",
      "...                ...       ...\n",
      "16117  30/6/2018 16:33 -0.942628\n",
      "16118  30/6/2018 16:36 -0.902516\n",
      "16119  30/6/2018 16:39 -0.951356\n",
      "16120  30/6/2018 16:42 -0.965600\n",
      "16121  30/6/2018 16:45 -0.958692\n",
      "16122  30/6/2018 16:48 -0.945111\n",
      "16123  30/6/2018 16:51 -0.944405\n",
      "16124  30/6/2018 16:54 -0.924730\n",
      "16125  30/6/2018 16:57 -0.927411\n",
      "16126  30/6/2018 17:00 -0.916394\n",
      "16127  30/6/2018 17:03 -0.929746\n",
      "16128  30/6/2018 17:06 -0.935811\n",
      "16129  30/6/2018 17:09 -0.934753\n",
      "16130  30/6/2018 17:12 -0.933539\n",
      "16131  30/6/2018 17:15 -0.949798\n",
      "16132  30/6/2018 17:18 -0.957685\n",
      "16133  30/6/2018 17:21 -0.970184\n",
      "16134  30/6/2018 17:24 -0.971741\n",
      "16135  30/6/2018 17:27 -0.978493\n",
      "16136  30/6/2018 17:30 -1.003329\n",
      "16137  30/6/2018 17:33 -1.001819\n",
      "16138  30/6/2018 17:36 -1.004088\n",
      "16139  30/6/2018 17:39 -1.006121\n",
      "16140  30/6/2018 17:42 -1.017952\n",
      "16141  30/6/2018 17:45 -1.017959\n",
      "16142  30/6/2018 17:48 -1.016087\n",
      "16143  30/6/2018 17:51 -1.031115\n",
      "16144  30/6/2018 17:54 -1.060816\n",
      "16145  30/6/2018 17:57 -1.069486\n",
      "16146  30/6/2018 18:00 -1.065757\n",
      "\n",
      "[16147 rows x 2 columns]\n"
     ]
    }
   ],
   "source": [
    "# Generate Kaggle submit file\n",
    "\n",
    "# Encode feature vector\n",
    "df_test = pd.read_csv(filename_test,na_values=['NA','?'])\n",
    "\n",
    "encode_numeric_zscore(df_test,'I')\n",
    "encode_numeric_zscore(df_test,'T')\n",
    "encode_numeric_zscore(df_test,'UV')\n",
    "encode_numeric_zscore(df_test,'WS')\n",
    "encode_numeric_zscore(df_test,'RH')\n",
    "\n",
    "# Preprocess\n",
    "datetime_sr = df_test['datetime']\n",
    "date_sr = df_test['date']\n",
    "time_sr = df_test['time']\n",
    "df_test.drop('datetime',1,inplace=True)\n",
    "df_test.drop('date',1,inplace=True)\n",
    "df_test.drop('time',1,inplace=True)\n",
    "\n",
    "\n",
    "x = df_test.as_matrix().astype(np.float32)\n",
    "\n",
    "# Generate predictions\n",
    "pred = model.predict(x)\n",
    "#pred\n",
    "\n",
    "# Create submission data set\n",
    "\n",
    "df_submit = pd.DataFrame(pred)\n",
    "df_submit.insert(0,'datetime',datetime_sr)\n",
    "df_submit.columns = ['datetime','P']\n",
    "\n",
    "df_submit.to_csv(filename_submit, index=False)\n",
    "\n",
    "print(df_submit)"
   ]
  },
  {
   "cell_type": "code",
   "execution_count": null,
   "metadata": {},
   "outputs": [],
   "source": []
  }
 ],
 "metadata": {
  "kernelspec": {
   "display_name": "Python 3",
   "language": "python",
   "name": "python3"
  },
  "language_info": {
   "codemirror_mode": {
    "name": "ipython",
    "version": 3
   },
   "file_extension": ".py",
   "mimetype": "text/x-python",
   "name": "python",
   "nbconvert_exporter": "python",
   "pygments_lexer": "ipython3",
   "version": "3.6.6"
  }
 },
 "nbformat": 4,
 "nbformat_minor": 2
}

{
 "cells": [
  {
   "cell_type": "code",
   "execution_count": 1,
   "metadata": {},
   "outputs": [
    {
     "name": "stderr",
     "output_type": "stream",
     "text": [
      "Using TensorFlow backend.\n",
      "/usr/local/lib/python3.6/dist-packages/sklearn/cross_validation.py:41: DeprecationWarning: This module was deprecated in version 0.18 in favor of the model_selection module into which all the refactored classes and functions are moved. Also note that the interface of the new CV iterators are different from that of this module. This module will be removed in 0.20.\n",
      "  \"This module will be removed in 0.20.\", DeprecationWarning)\n"
     ]
    }
   ],
   "source": [
    "import os\n",
    "\n",
    "from __future__ import absolute_import\n",
    "from __future__ import division\n",
    "from __future__ import print_function\n",
    "\n",
    "import itertools\n",
    "from pylab import rcParams\n",
    "import matplotlib\n",
    "import pandas as pd\n",
    "import numpy as np\n",
    "import matplotlib.pyplot as plt\n",
    "import tensorflow as tf\n",
    "from sklearn.preprocessing import StandardScaler\n",
    "from sklearn.preprocessing import MinMaxScaler\n",
    "from sklearn.model_selection import train_test_split\n",
    "from sklearn.metrics import mean_squared_error\n",
    "\n",
    "import matplotlib.pyplot as plt\n",
    "import sklearn\n",
    "import sklearn.datasets\n",
    "import sklearn.linear_model\n",
    "from numpy import genfromtxt\n",
    "import tensorflow as tf\n",
    "from keras.layers import Activation, Dense\n",
    "\n",
    "from tensorflow.contrib import learn\n",
    "from sklearn import cross_validation\n",
    "from sklearn import preprocessing\n",
    "from sklearn import metrics\n",
    "\n",
    "\n",
    "%matplotlib inline\n",
    "\n",
    "np.random.seed(1) # set a seed so that the results are consistent"
   ]
  },
  {
   "cell_type": "code",
   "execution_count": 23,
   "metadata": {},
   "outputs": [],
   "source": [
    "path = \"./data/\""
   ]
  },
  {
   "cell_type": "code",
   "execution_count": 2,
   "metadata": {},
   "outputs": [],
   "source": [
    "train = pd.read_csv('data/Train_data/dataset_rev4_train.csv')\n",
    "#buffer datetime\n",
    "buffer_datetime_train = train.datetime\n",
    "#remove object\n",
    "train = train.select_dtypes(exclude=['object'])\n",
    "#replace misssing value\n",
    "train.fillna(0,inplace=True)"
   ]
  },
  {
   "cell_type": "code",
   "execution_count": 3,
   "metadata": {},
   "outputs": [],
   "source": [
    "test = pd.read_csv('data/test_data/dataset_rev4_test.csv')\n",
    "#buffer datetime\n",
    "buffer_datetime_test = test.datetime\n",
    "#remove object\n",
    "test = test.select_dtypes(exclude=['object'])\n",
    "#replace misssing value\n",
    "test.fillna(0,inplace=True)"
   ]
  },
  {
   "cell_type": "code",
   "execution_count": 4,
   "metadata": {},
   "outputs": [
    {
     "name": "stdout",
     "output_type": "stream",
     "text": [
      "dimension of train: (131586, 6)\n",
      "dimension of test: (16147, 5)\n"
     ]
    }
   ],
   "source": [
    "print('dimension of train:', train.shape)\n",
    "print('dimension of test:', test.shape)"
   ]
  },
  {
   "cell_type": "code",
   "execution_count": 5,
   "metadata": {},
   "outputs": [
    {
     "name": "stdout",
     "output_type": "stream",
     "text": [
      "features: ['I', 'T', 'UV', 'WS', 'RH', 'P']\n"
     ]
    }
   ],
   "source": [
    "print(\"features:\",list(train.columns))"
   ]
  },
  {
   "cell_type": "code",
   "execution_count": 6,
   "metadata": {},
   "outputs": [
    {
     "name": "stdout",
     "output_type": "stream",
     "text": [
      "Number of Outliers: 13159\n",
      "Number of rows without outliers: 118427\n"
     ]
    }
   ],
   "source": [
    "from sklearn.ensemble import IsolationForest\n",
    "clf = IsolationForest(max_samples = 100, random_state = 42)\n",
    "clf.fit(train)\n",
    "y_noano = clf.predict(train)\n",
    "y_noano = pd.DataFrame(y_noano, columns = ['Top'])\n",
    "y_noano[y_noano['Top'] == 1].index.values\n",
    "\n",
    "train = train.iloc[y_noano[y_noano['Top'] == 1].index.values]\n",
    "train.reset_index(drop = True, inplace = True)\n",
    "print(\"Number of Outliers:\", y_noano[y_noano['Top'] == -1].shape[0])\n",
    "print(\"Number of rows without outliers:\", train.shape[0])"
   ]
  },
  {
   "cell_type": "code",
   "execution_count": 7,
   "metadata": {},
   "outputs": [],
   "source": [
    "import warnings\n",
    "warnings.filterwarnings('ignore')\n",
    "\n",
    "col_train = list(train.columns)\n",
    "col_train_bis = list(train.columns)\n",
    "\n",
    "col_train_bis.remove('P')\n",
    "\n",
    "mat_train = np.matrix(train)\n",
    "mat_test  = np.matrix(test)\n",
    "\n",
    "mat_new = np.matrix(train.drop('P',axis = 1))\n",
    "mat_y = np.array(train.P).reshape((118427,1))\n",
    "\n",
    "prepro_y = MinMaxScaler()\n",
    "prepro_y.fit(mat_y)\n",
    "\n",
    "prepro = MinMaxScaler()\n",
    "prepro.fit(mat_train)\n",
    "\n",
    "prepro_test = MinMaxScaler()\n",
    "prepro_test.fit(mat_new)\n",
    "\n",
    "train = pd.DataFrame(prepro.transform(mat_train),columns = col_train)\n",
    "test  = pd.DataFrame(prepro_test.transform(mat_test),columns = col_train_bis)"
   ]
  },
  {
   "cell_type": "code",
   "execution_count": 8,
   "metadata": {},
   "outputs": [],
   "source": [
    "# List of features\n",
    "COLUMNS = col_train #column train (x train)\n",
    "FEATURES = col_train_bis  #column train-label (x test)\n",
    "LABEL = \"P\"\n",
    "\n",
    "# Columns\n",
    "feature_cols = FEATURES #(x test)\n",
    "\n",
    "# Training set and Prediction set with the features to predict\n",
    "training_set = train[COLUMNS] #column train (x train)\n",
    "prediction_set = train.P # column P"
   ]
  },
  {
   "cell_type": "code",
   "execution_count": 9,
   "metadata": {},
   "outputs": [
    {
     "name": "stdout",
     "output_type": "stream",
     "text": [
      "<class 'pandas.core.frame.DataFrame'>\n",
      "<class 'pandas.core.series.Series'>\n"
     ]
    }
   ],
   "source": [
    "print(type(training_set))\n",
    "print(type(prediction_set))"
   ]
  },
  {
   "cell_type": "code",
   "execution_count": 10,
   "metadata": {},
   "outputs": [],
   "source": [
    "x_train, x_test, y_train, y_test = train_test_split(training_set[FEATURES] , prediction_set, test_size=0.33, random_state=42)"
   ]
  },
  {
   "cell_type": "code",
   "execution_count": 11,
   "metadata": {},
   "outputs": [],
   "source": [
    "train_data = x_train.values\n",
    "train_labels = y_train.values\n",
    "test_data = x_test.values\n",
    "test_labels = y_test.values"
   ]
  },
  {
   "cell_type": "code",
   "execution_count": 13,
   "metadata": {},
   "outputs": [
    {
     "name": "stdout",
     "output_type": "stream",
     "text": [
      "<class 'numpy.ndarray'>\n",
      "<class 'numpy.ndarray'>\n",
      "<class 'numpy.ndarray'>\n",
      "<class 'numpy.ndarray'>\n"
     ]
    }
   ],
   "source": [
    "print(type(train_data))\n",
    "print(type(train_labels))\n",
    "print(type(test_data))\n",
    "print(type(test_labels))"
   ]
  },
  {
   "cell_type": "code",
   "execution_count": 14,
   "metadata": {},
   "outputs": [],
   "source": [
    "from keras import models\n",
    "from keras import layers\n",
    "\n",
    "original_model = models.Sequential()\n",
    "original_model.add(layers.Dense(16, activation='relu', input_shape=(5,)))\n",
    "original_model.add(layers.Dense(16, activation='relu'))\n",
    "original_model.add(layers.Dense(1, activation='relu'))\n",
    "\n",
    "original_model.compile(optimizer='RMSprop',\n",
    "                       loss='mse',\n",
    "                       metrics=['mae'])"
   ]
  },
  {
   "cell_type": "code",
   "execution_count": 15,
   "metadata": {},
   "outputs": [],
   "source": [
    "smaller_model = models.Sequential()\n",
    "smaller_model.add(layers.Dense(4, activation='relu', input_shape=(5,)))\n",
    "smaller_model.add(layers.Dense(4, activation='relu'))\n",
    "smaller_model.add(layers.Dense(1, activation='relu'))\n",
    "\n",
    "smaller_model.compile(optimizer='rmsprop',\n",
    "                      loss='mse',\n",
    "                      metrics=['mae'])"
   ]
  },
  {
   "cell_type": "code",
   "execution_count": 16,
   "metadata": {},
   "outputs": [
    {
     "name": "stdout",
     "output_type": "stream",
     "text": [
      "Train on 79346 samples, validate on 39081 samples\n",
      "Epoch 1/20\n",
      "79346/79346 [==============================] - 1s 7us/step - loss: 0.0105 - mean_absolute_error: 0.0669 - val_loss: 0.0044 - val_mean_absolute_error: 0.0414\n",
      "Epoch 2/20\n",
      "79346/79346 [==============================] - 0s 5us/step - loss: 0.0042 - mean_absolute_error: 0.0394 - val_loss: 0.0040 - val_mean_absolute_error: 0.0365\n",
      "Epoch 3/20\n",
      "79346/79346 [==============================] - 0s 5us/step - loss: 0.0041 - mean_absolute_error: 0.0388 - val_loss: 0.0048 - val_mean_absolute_error: 0.0487\n",
      "Epoch 4/20\n",
      "79346/79346 [==============================] - 0s 5us/step - loss: 0.0040 - mean_absolute_error: 0.0384 - val_loss: 0.0043 - val_mean_absolute_error: 0.0432\n",
      "Epoch 5/20\n",
      "79346/79346 [==============================] - 0s 5us/step - loss: 0.0040 - mean_absolute_error: 0.0382 - val_loss: 0.0038 - val_mean_absolute_error: 0.0363\n",
      "Epoch 6/20\n",
      "79346/79346 [==============================] - 0s 4us/step - loss: 0.0039 - mean_absolute_error: 0.0376 - val_loss: 0.0040 - val_mean_absolute_error: 0.0373\n",
      "Epoch 7/20\n",
      "79346/79346 [==============================] - 0s 4us/step - loss: 0.0039 - mean_absolute_error: 0.0372 - val_loss: 0.0038 - val_mean_absolute_error: 0.0363\n",
      "Epoch 8/20\n",
      "79346/79346 [==============================] - 0s 4us/step - loss: 0.0039 - mean_absolute_error: 0.0372 - val_loss: 0.0044 - val_mean_absolute_error: 0.0418\n",
      "Epoch 9/20\n",
      "79346/79346 [==============================] - 0s 4us/step - loss: 0.0039 - mean_absolute_error: 0.0369 - val_loss: 0.0038 - val_mean_absolute_error: 0.0363\n",
      "Epoch 10/20\n",
      "79346/79346 [==============================] - 0s 4us/step - loss: 0.0038 - mean_absolute_error: 0.0368 - val_loss: 0.0037 - val_mean_absolute_error: 0.0336\n",
      "Epoch 11/20\n",
      "79346/79346 [==============================] - 0s 4us/step - loss: 0.0038 - mean_absolute_error: 0.0366 - val_loss: 0.0037 - val_mean_absolute_error: 0.0355\n",
      "Epoch 12/20\n",
      "79346/79346 [==============================] - 0s 4us/step - loss: 0.0038 - mean_absolute_error: 0.0367 - val_loss: 0.0039 - val_mean_absolute_error: 0.0357\n",
      "Epoch 13/20\n",
      "79346/79346 [==============================] - 0s 4us/step - loss: 0.0038 - mean_absolute_error: 0.0365 - val_loss: 0.0038 - val_mean_absolute_error: 0.0380\n",
      "Epoch 14/20\n",
      "79346/79346 [==============================] - 0s 4us/step - loss: 0.0038 - mean_absolute_error: 0.0365 - val_loss: 0.0037 - val_mean_absolute_error: 0.0358\n",
      "Epoch 15/20\n",
      "79346/79346 [==============================] - 0s 4us/step - loss: 0.0038 - mean_absolute_error: 0.0363 - val_loss: 0.0036 - val_mean_absolute_error: 0.0342\n",
      "Epoch 16/20\n",
      "79346/79346 [==============================] - 0s 3us/step - loss: 0.0037 - mean_absolute_error: 0.0361 - val_loss: 0.0037 - val_mean_absolute_error: 0.0342\n",
      "Epoch 17/20\n",
      "79346/79346 [==============================] - 0s 3us/step - loss: 0.0037 - mean_absolute_error: 0.0360 - val_loss: 0.0041 - val_mean_absolute_error: 0.0411\n",
      "Epoch 18/20\n",
      "79346/79346 [==============================] - 0s 4us/step - loss: 0.0037 - mean_absolute_error: 0.0359 - val_loss: 0.0036 - val_mean_absolute_error: 0.0331\n",
      "Epoch 19/20\n",
      "79346/79346 [==============================] - 0s 4us/step - loss: 0.0037 - mean_absolute_error: 0.0358 - val_loss: 0.0043 - val_mean_absolute_error: 0.0439\n",
      "Epoch 20/20\n",
      "79346/79346 [==============================] - 0s 4us/step - loss: 0.0037 - mean_absolute_error: 0.0358 - val_loss: 0.0036 - val_mean_absolute_error: 0.0329\n"
     ]
    }
   ],
   "source": [
    "original_hist = original_model.fit(x_train, y_train,\n",
    "                                   epochs=20,\n",
    "                                   batch_size=512,\n",
    "                                   validation_data=(x_test, y_test))"
   ]
  },
  {
   "cell_type": "code",
   "execution_count": 19,
   "metadata": {},
   "outputs": [],
   "source": [
    "# Predict# Predic \n",
    "pred = original_model.predict(test_data)"
   ]
  },
  {
   "cell_type": "code",
   "execution_count": 20,
   "metadata": {},
   "outputs": [
    {
     "name": "stdout",
     "output_type": "stream",
     "text": [
      "Before save score (RMSE): 0.059894907030809255\n"
     ]
    }
   ],
   "source": [
    "# Measure RMSE error.  RMSE is common for regression.\n",
    "score = np.sqrt(metrics.mean_squared_error(pred,test_labels))\n",
    "print(f\"Before save score (RMSE): {score}\")"
   ]
  },
  {
   "cell_type": "code",
   "execution_count": 24,
   "metadata": {},
   "outputs": [],
   "source": [
    "# save neural network structure to JSON (no weights)\n",
    "model_json = original_model.to_json()\n",
    "with open(os.path.join(path,\"R16_1_model.json\"), \"w\") as json_file:\n",
    "    json_file.write(model_json)"
   ]
  },
  {
   "cell_type": "code",
   "execution_count": 26,
   "metadata": {},
   "outputs": [],
   "source": [
    "# save neural network structure to YAML (no weights)\n",
    "model_yaml = original_model.to_yaml()\n",
    "with open(os.path.join(path,\"R16_1_model.yaml\"), \"w\") as yaml_file:\n",
    "    yaml_file.write(model_yaml)"
   ]
  },
  {
   "cell_type": "code",
   "execution_count": 27,
   "metadata": {},
   "outputs": [],
   "source": [
    "# save entire network to HDF5 (save everything, suggested)# save e \n",
    "original_model.save(os.path.join(path,\"R16_1_model.h5\"))"
   ]
  },
  {
   "cell_type": "code",
   "execution_count": 38,
   "metadata": {},
   "outputs": [
    {
     "name": "stdout",
     "output_type": "stream",
     "text": [
      "After load score (RMSE): 0.059894907030809255\n"
     ]
    }
   ],
   "source": [
    "from keras.models import load_model\n",
    "model2 = load_model(os.path.join(path,\"R16_1_model.h5\"))\n",
    "pred = model2.predict(test_data)\n",
    "# Measure RMSE error.  RMSE is common for regression.\n",
    "score = np.sqrt(metrics.mean_squared_error(pred,test_labels))\n",
    "print(f\"After load score (RMSE): {score}\")"
   ]
  },
  {
   "cell_type": "code",
   "execution_count": 28,
   "metadata": {},
   "outputs": [
    {
     "name": "stdout",
     "output_type": "stream",
     "text": [
      "Train on 79346 samples, validate on 39081 samples\n",
      "Epoch 1/20\n",
      "79346/79346 [==============================] - 0s 6us/step - loss: 0.1230 - mean_absolute_error: 0.2673 - val_loss: 0.1218 - val_mean_absolute_error: 0.2660\n",
      "Epoch 2/20\n",
      "79346/79346 [==============================] - 0s 4us/step - loss: 0.1230 - mean_absolute_error: 0.2673 - val_loss: 0.1218 - val_mean_absolute_error: 0.2660\n",
      "Epoch 3/20\n",
      "79346/79346 [==============================] - 0s 5us/step - loss: 0.1230 - mean_absolute_error: 0.2673 - val_loss: 0.1218 - val_mean_absolute_error: 0.2660\n",
      "Epoch 4/20\n",
      "79346/79346 [==============================] - 0s 5us/step - loss: 0.1230 - mean_absolute_error: 0.2673 - val_loss: 0.1218 - val_mean_absolute_error: 0.2660\n",
      "Epoch 5/20\n",
      "79346/79346 [==============================] - 0s 5us/step - loss: 0.1230 - mean_absolute_error: 0.2673 - val_loss: 0.1218 - val_mean_absolute_error: 0.2660\n",
      "Epoch 6/20\n",
      "79346/79346 [==============================] - 0s 5us/step - loss: 0.1230 - mean_absolute_error: 0.2673 - val_loss: 0.1218 - val_mean_absolute_error: 0.2660\n",
      "Epoch 7/20\n",
      "79346/79346 [==============================] - 0s 5us/step - loss: 0.1230 - mean_absolute_error: 0.2673 - val_loss: 0.1218 - val_mean_absolute_error: 0.2660\n",
      "Epoch 8/20\n",
      "79346/79346 [==============================] - 0s 5us/step - loss: 0.1230 - mean_absolute_error: 0.2673 - val_loss: 0.1218 - val_mean_absolute_error: 0.2660\n",
      "Epoch 9/20\n",
      "79346/79346 [==============================] - 0s 5us/step - loss: 0.1230 - mean_absolute_error: 0.2673 - val_loss: 0.1218 - val_mean_absolute_error: 0.2660\n",
      "Epoch 10/20\n",
      "79346/79346 [==============================] - 0s 5us/step - loss: 0.1230 - mean_absolute_error: 0.2673 - val_loss: 0.1218 - val_mean_absolute_error: 0.2660\n",
      "Epoch 11/20\n",
      "79346/79346 [==============================] - 0s 5us/step - loss: 0.1230 - mean_absolute_error: 0.2673 - val_loss: 0.1218 - val_mean_absolute_error: 0.2660\n",
      "Epoch 12/20\n",
      "79346/79346 [==============================] - 0s 4us/step - loss: 0.1230 - mean_absolute_error: 0.2673 - val_loss: 0.1218 - val_mean_absolute_error: 0.2660\n",
      "Epoch 13/20\n",
      "79346/79346 [==============================] - 0s 5us/step - loss: 0.1230 - mean_absolute_error: 0.2673 - val_loss: 0.1218 - val_mean_absolute_error: 0.2660\n",
      "Epoch 14/20\n",
      "79346/79346 [==============================] - 0s 5us/step - loss: 0.1230 - mean_absolute_error: 0.2673 - val_loss: 0.1218 - val_mean_absolute_error: 0.2660\n",
      "Epoch 15/20\n",
      "79346/79346 [==============================] - 0s 5us/step - loss: 0.1230 - mean_absolute_error: 0.2673 - val_loss: 0.1218 - val_mean_absolute_error: 0.2660\n",
      "Epoch 16/20\n",
      "79346/79346 [==============================] - 0s 5us/step - loss: 0.1230 - mean_absolute_error: 0.2673 - val_loss: 0.1218 - val_mean_absolute_error: 0.2660\n",
      "Epoch 17/20\n",
      "79346/79346 [==============================] - 0s 5us/step - loss: 0.1230 - mean_absolute_error: 0.2673 - val_loss: 0.1218 - val_mean_absolute_error: 0.2660\n",
      "Epoch 18/20\n",
      "79346/79346 [==============================] - 0s 5us/step - loss: 0.1230 - mean_absolute_error: 0.2673 - val_loss: 0.1218 - val_mean_absolute_error: 0.2660\n",
      "Epoch 19/20\n",
      "79346/79346 [==============================] - 0s 5us/step - loss: 0.1230 - mean_absolute_error: 0.2673 - val_loss: 0.1218 - val_mean_absolute_error: 0.2660\n",
      "Epoch 20/20\n",
      "79346/79346 [==============================] - 0s 5us/step - loss: 0.1230 - mean_absolute_error: 0.2673 - val_loss: 0.1218 - val_mean_absolute_error: 0.2660\n"
     ]
    }
   ],
   "source": [
    "smaller_model_hist = smaller_model.fit(x_train, y_train,\n",
    "                                       epochs=20,\n",
    "                                       batch_size=512,\n",
    "                                       validation_data=(x_test, y_test))"
   ]
  },
  {
   "cell_type": "code",
   "execution_count": 29,
   "metadata": {},
   "outputs": [],
   "source": [
    "# Predict# Predic \n",
    "pred = smaller_model.predict(test_data)"
   ]
  },
  {
   "cell_type": "code",
   "execution_count": 30,
   "metadata": {},
   "outputs": [
    {
     "name": "stdout",
     "output_type": "stream",
     "text": [
      "Before save score (RMSE): 0.34894193043374266\n"
     ]
    }
   ],
   "source": [
    "# Measure RMSE error.  RMSE is common for regression.\n",
    "score = np.sqrt(metrics.mean_squared_error(pred,test_labels))\n",
    "print(f\"Before save score (RMSE): {score}\")"
   ]
  },
  {
   "cell_type": "code",
   "execution_count": 34,
   "metadata": {},
   "outputs": [],
   "source": [
    "# save neural network structure to JSON (no weights)\n",
    "model_json = smaller_model.to_json()\n",
    "with open(os.path.join(path,\"R16_2_model.json\"), \"w\") as json_file:\n",
    "    json_file.write(model_json)"
   ]
  },
  {
   "cell_type": "code",
   "execution_count": 35,
   "metadata": {},
   "outputs": [],
   "source": [
    "# save neural network structure to YAML (no weights)\n",
    "model_yaml = smaller_model.to_yaml()\n",
    "with open(os.path.join(path,\"R16_2_model.yaml\"), \"w\") as yaml_file:\n",
    "    yaml_file.write(model_yaml)"
   ]
  },
  {
   "cell_type": "code",
   "execution_count": 36,
   "metadata": {},
   "outputs": [],
   "source": [
    "# save entire network to HDF5 (save everything, suggested)# save e \n",
    "smaller_model.save(os.path.join(path,\"R16_2_model.h5\"))"
   ]
  },
  {
   "cell_type": "code",
   "execution_count": 37,
   "metadata": {},
   "outputs": [
    {
     "name": "stdout",
     "output_type": "stream",
     "text": [
      "After load score (RMSE): 0.34894193043374266\n"
     ]
    }
   ],
   "source": [
    "from keras.models import load_model\n",
    "model2 = load_model(os.path.join(path,\"R16_2_model.h5\"))\n",
    "pred = model2.predict(test_data)\n",
    "# Measure RMSE error.  RMSE is common for regression.\n",
    "score = np.sqrt(metrics.mean_squared_error(pred,test_labels))\n",
    "print(f\"After load score (RMSE): {score}\")"
   ]
  },
  {
   "cell_type": "code",
   "execution_count": 39,
   "metadata": {},
   "outputs": [],
   "source": [
    "bigger_model = models.Sequential()\n",
    "bigger_model.add(layers.Dense(512, activation='relu', input_shape=(5,)))\n",
    "bigger_model.add(layers.Dense(512, activation='relu'))\n",
    "bigger_model.add(layers.Dense(1, activation='relu'))\n",
    "\n",
    "bigger_model.compile(optimizer='rmsprop',\n",
    "                     loss='mse',\n",
    "                     metrics=['mae'])"
   ]
  },
  {
   "cell_type": "code",
   "execution_count": 49,
   "metadata": {},
   "outputs": [
    {
     "name": "stdout",
     "output_type": "stream",
     "text": [
      "Train on 79346 samples, validate on 39081 samples\n",
      "Epoch 1/20\n",
      "79346/79346 [==============================] - 4s 47us/step - loss: 0.0035 - mean_absolute_error: 0.0331 - val_loss: 0.0033 - val_mean_absolute_error: 0.0313\n",
      "Epoch 2/20\n",
      "79346/79346 [==============================] - 3s 44us/step - loss: 0.0035 - mean_absolute_error: 0.0329 - val_loss: 0.0035 - val_mean_absolute_error: 0.0321\n",
      "Epoch 3/20\n",
      "79346/79346 [==============================] - 4s 47us/step - loss: 0.0035 - mean_absolute_error: 0.0330 - val_loss: 0.0035 - val_mean_absolute_error: 0.0326\n",
      "Epoch 4/20\n",
      "79346/79346 [==============================] - 4s 47us/step - loss: 0.0034 - mean_absolute_error: 0.0328 - val_loss: 0.0035 - val_mean_absolute_error: 0.0326\n",
      "Epoch 5/20\n",
      "79346/79346 [==============================] - 4s 46us/step - loss: 0.0034 - mean_absolute_error: 0.0327 - val_loss: 0.0033 - val_mean_absolute_error: 0.0318\n",
      "Epoch 6/20\n",
      "79346/79346 [==============================] - 4s 47us/step - loss: 0.0034 - mean_absolute_error: 0.0326 - val_loss: 0.0033 - val_mean_absolute_error: 0.0310\n",
      "Epoch 7/20\n",
      "79346/79346 [==============================] - 3s 43us/step - loss: 0.0034 - mean_absolute_error: 0.0326 - val_loss: 0.0035 - val_mean_absolute_error: 0.0329\n",
      "Epoch 8/20\n",
      "79346/79346 [==============================] - 4s 45us/step - loss: 0.0034 - mean_absolute_error: 0.0325 - val_loss: 0.0035 - val_mean_absolute_error: 0.0328\n",
      "Epoch 9/20\n",
      "79346/79346 [==============================] - 4s 47us/step - loss: 0.0034 - mean_absolute_error: 0.0326 - val_loss: 0.0033 - val_mean_absolute_error: 0.0310\n",
      "Epoch 10/20\n",
      "79346/79346 [==============================] - 4s 53us/step - loss: 0.0034 - mean_absolute_error: 0.0323 - val_loss: 0.0042 - val_mean_absolute_error: 0.0387\n",
      "Epoch 11/20\n",
      "79346/79346 [==============================] - 4s 48us/step - loss: 0.0034 - mean_absolute_error: 0.0324 - val_loss: 0.0034 - val_mean_absolute_error: 0.0319\n",
      "Epoch 12/20\n",
      "79346/79346 [==============================] - 4s 46us/step - loss: 0.0034 - mean_absolute_error: 0.0323 - val_loss: 0.0034 - val_mean_absolute_error: 0.0317\n",
      "Epoch 13/20\n",
      "79346/79346 [==============================] - 3s 42us/step - loss: 0.0034 - mean_absolute_error: 0.0323 - val_loss: 0.0033 - val_mean_absolute_error: 0.0314\n",
      "Epoch 14/20\n",
      "79346/79346 [==============================] - 4s 47us/step - loss: 0.0034 - mean_absolute_error: 0.0322 - val_loss: 0.0033 - val_mean_absolute_error: 0.0311\n",
      "Epoch 15/20\n",
      "79346/79346 [==============================] - 4s 47us/step - loss: 0.0034 - mean_absolute_error: 0.0322 - val_loss: 0.0034 - val_mean_absolute_error: 0.0318\n",
      "Epoch 16/20\n",
      "79346/79346 [==============================] - 4s 46us/step - loss: 0.0034 - mean_absolute_error: 0.0321 - val_loss: 0.0033 - val_mean_absolute_error: 0.0307\n",
      "Epoch 17/20\n",
      "79346/79346 [==============================] - 4s 47us/step - loss: 0.0034 - mean_absolute_error: 0.0321 - val_loss: 0.0033 - val_mean_absolute_error: 0.0304\n",
      "Epoch 18/20\n",
      "79346/79346 [==============================] - 4s 44us/step - loss: 0.0034 - mean_absolute_error: 0.0320 - val_loss: 0.0033 - val_mean_absolute_error: 0.0300\n",
      "Epoch 19/20\n",
      "79346/79346 [==============================] - 3s 44us/step - loss: 0.0034 - mean_absolute_error: 0.0321 - val_loss: 0.0033 - val_mean_absolute_error: 0.0308\n",
      "Epoch 20/20\n",
      "79346/79346 [==============================] - 4s 47us/step - loss: 0.0033 - mean_absolute_error: 0.0319 - val_loss: 0.0033 - val_mean_absolute_error: 0.0308\n"
     ]
    }
   ],
   "source": [
    "bigger_model_hist = bigger_model.fit(x_train, y_train,\n",
    "                                     epochs=20,\n",
    "                                     batch_size=512,\n",
    "                                     validation_data=(x_test, y_test))"
   ]
  },
  {
   "cell_type": "code",
   "execution_count": 41,
   "metadata": {},
   "outputs": [],
   "source": [
    "# Predict# Predic \n",
    "pred = bigger_model.predict(test_data)"
   ]
  },
  {
   "cell_type": "code",
   "execution_count": 42,
   "metadata": {},
   "outputs": [
    {
     "name": "stdout",
     "output_type": "stream",
     "text": [
      "Before save score (RMSE): 0.06014507683603035\n"
     ]
    }
   ],
   "source": [
    "# Measure RMSE error.  RMSE is common for regression.\n",
    "score = np.sqrt(metrics.mean_squared_error(pred,test_labels))\n",
    "print(f\"Before save score (RMSE): {score}\")"
   ]
  },
  {
   "cell_type": "code",
   "execution_count": 43,
   "metadata": {},
   "outputs": [],
   "source": [
    "# save neural network structure to JSON (no weights)\n",
    "model_json = bigger_model.to_json()\n",
    "with open(os.path.join(path,\"R16_3_model.json\"), \"w\") as json_file:\n",
    "    json_file.write(model_json)"
   ]
  },
  {
   "cell_type": "code",
   "execution_count": 44,
   "metadata": {},
   "outputs": [],
   "source": [
    "# save neural network structure to YAML (no weights)\n",
    "model_yaml = bigger_model.to_yaml()\n",
    "with open(os.path.join(path,\"R16_3_model.yaml\"), \"w\") as yaml_file:\n",
    "    yaml_file.write(model_yaml)"
   ]
  },
  {
   "cell_type": "code",
   "execution_count": 45,
   "metadata": {},
   "outputs": [],
   "source": [
    "# save entire network to HDF5 (save everything, suggested)# save e \n",
    "bigger_model.save(os.path.join(path,\"R16_3_model.h5\"))"
   ]
  },
  {
   "cell_type": "code",
   "execution_count": 46,
   "metadata": {},
   "outputs": [
    {
     "name": "stdout",
     "output_type": "stream",
     "text": [
      "After load score (RMSE): 0.06014507683603035\n"
     ]
    }
   ],
   "source": [
    "from keras.models import load_model\n",
    "model2 = load_model(os.path.join(path,\"R16_3_model.h5\"))\n",
    "pred = model2.predict(test_data)\n",
    "# Measure RMSE error.  RMSE is common for regression.\n",
    "score = np.sqrt(metrics.mean_squared_error(pred,test_labels))\n",
    "print(f\"After load score (RMSE): {score}\")"
   ]
  },
  {
   "cell_type": "code",
   "execution_count": 47,
   "metadata": {},
   "outputs": [],
   "source": [
    "from keras import regularizers\n",
    "\n",
    "l2_model = models.Sequential()\n",
    "l2_model.add(layers.Dense(16, kernel_regularizer=regularizers.l2(0.001),\n",
    "                          activation='relu', input_shape=(5,)))\n",
    "l2_model.add(layers.Dense(16, kernel_regularizer=regularizers.l2(0.001),\n",
    "                          activation='relu'))\n",
    "l2_model.add(layers.Dense(1, activation='relu'))"
   ]
  },
  {
   "cell_type": "code",
   "execution_count": 50,
   "metadata": {},
   "outputs": [],
   "source": [
    "l2_model.compile(optimizer='rmsprop',\n",
    "                 loss='mse',\n",
    "                 metrics=['mae'])"
   ]
  },
  {
   "cell_type": "code",
   "execution_count": 51,
   "metadata": {},
   "outputs": [
    {
     "name": "stdout",
     "output_type": "stream",
     "text": [
      "Train on 79346 samples, validate on 39081 samples\n",
      "Epoch 1/20\n",
      "79346/79346 [==============================] - 1s 7us/step - loss: 0.0279 - mean_absolute_error: 0.0620 - val_loss: 0.0184 - val_mean_absolute_error: 0.0419\n",
      "Epoch 2/20\n",
      "79346/79346 [==============================] - 0s 3us/step - loss: 0.0150 - mean_absolute_error: 0.0397 - val_loss: 0.0128 - val_mean_absolute_error: 0.0414\n",
      "Epoch 3/20\n",
      "79346/79346 [==============================] - 0s 4us/step - loss: 0.0112 - mean_absolute_error: 0.0390 - val_loss: 0.0102 - val_mean_absolute_error: 0.0375\n",
      "Epoch 4/20\n",
      "79346/79346 [==============================] - 0s 4us/step - loss: 0.0096 - mean_absolute_error: 0.0386 - val_loss: 0.0090 - val_mean_absolute_error: 0.0397\n",
      "Epoch 5/20\n",
      "79346/79346 [==============================] - 0s 3us/step - loss: 0.0086 - mean_absolute_error: 0.0383 - val_loss: 0.0087 - val_mean_absolute_error: 0.0428\n",
      "Epoch 6/20\n",
      "79346/79346 [==============================] - 0s 3us/step - loss: 0.0078 - mean_absolute_error: 0.0379 - val_loss: 0.0082 - val_mean_absolute_error: 0.0483\n",
      "Epoch 7/20\n",
      "79346/79346 [==============================] - 0s 3us/step - loss: 0.0072 - mean_absolute_error: 0.0380 - val_loss: 0.0070 - val_mean_absolute_error: 0.0369\n",
      "Epoch 8/20\n",
      "79346/79346 [==============================] - 0s 3us/step - loss: 0.0068 - mean_absolute_error: 0.0378 - val_loss: 0.0064 - val_mean_absolute_error: 0.0360\n",
      "Epoch 9/20\n",
      "79346/79346 [==============================] - 0s 3us/step - loss: 0.0064 - mean_absolute_error: 0.0378 - val_loss: 0.0061 - val_mean_absolute_error: 0.0351\n",
      "Epoch 10/20\n",
      "79346/79346 [==============================] - 0s 3us/step - loss: 0.0061 - mean_absolute_error: 0.0376 - val_loss: 0.0059 - val_mean_absolute_error: 0.0355\n",
      "Epoch 11/20\n",
      "79346/79346 [==============================] - 0s 3us/step - loss: 0.0059 - mean_absolute_error: 0.0374 - val_loss: 0.0060 - val_mean_absolute_error: 0.0425\n",
      "Epoch 12/20\n",
      "79346/79346 [==============================] - 0s 3us/step - loss: 0.0057 - mean_absolute_error: 0.0376 - val_loss: 0.0055 - val_mean_absolute_error: 0.0349\n",
      "Epoch 13/20\n",
      "79346/79346 [==============================] - 0s 3us/step - loss: 0.0056 - mean_absolute_error: 0.0373 - val_loss: 0.0054 - val_mean_absolute_error: 0.0351\n",
      "Epoch 14/20\n",
      "79346/79346 [==============================] - 0s 4us/step - loss: 0.0054 - mean_absolute_error: 0.0371 - val_loss: 0.0052 - val_mean_absolute_error: 0.0353\n",
      "Epoch 15/20\n",
      "79346/79346 [==============================] - 0s 4us/step - loss: 0.0053 - mean_absolute_error: 0.0371 - val_loss: 0.0052 - val_mean_absolute_error: 0.0366\n",
      "Epoch 16/20\n",
      "79346/79346 [==============================] - 0s 4us/step - loss: 0.0052 - mean_absolute_error: 0.0372 - val_loss: 0.0052 - val_mean_absolute_error: 0.0384\n",
      "Epoch 17/20\n",
      "79346/79346 [==============================] - 0s 4us/step - loss: 0.0052 - mean_absolute_error: 0.0370 - val_loss: 0.0053 - val_mean_absolute_error: 0.0374\n",
      "Epoch 18/20\n",
      "79346/79346 [==============================] - 0s 4us/step - loss: 0.0051 - mean_absolute_error: 0.0372 - val_loss: 0.0054 - val_mean_absolute_error: 0.0388\n",
      "Epoch 19/20\n",
      "79346/79346 [==============================] - 0s 4us/step - loss: 0.0051 - mean_absolute_error: 0.0372 - val_loss: 0.0050 - val_mean_absolute_error: 0.0382\n",
      "Epoch 20/20\n",
      "79346/79346 [==============================] - 0s 4us/step - loss: 0.0050 - mean_absolute_error: 0.0371 - val_loss: 0.0049 - val_mean_absolute_error: 0.0381\n"
     ]
    }
   ],
   "source": [
    "l2_model_hist = l2_model.fit(x_train, y_train,\n",
    "                             epochs=20,\n",
    "                             batch_size=512,\n",
    "                             validation_data=(x_test, y_test))"
   ]
  },
  {
   "cell_type": "code",
   "execution_count": 52,
   "metadata": {},
   "outputs": [],
   "source": [
    "# Predict# Predic \n",
    "pred = l2_model.predict(test_data)"
   ]
  },
  {
   "cell_type": "code",
   "execution_count": 53,
   "metadata": {},
   "outputs": [
    {
     "name": "stdout",
     "output_type": "stream",
     "text": [
      "Before save score (RMSE): 0.06179037023349529\n"
     ]
    }
   ],
   "source": [
    "# Measure RMSE error.  RMSE is common for regression.\n",
    "score = np.sqrt(metrics.mean_squared_error(pred,test_labels))\n",
    "print(f\"Before save score (RMSE): {score}\")"
   ]
  },
  {
   "cell_type": "code",
   "execution_count": 54,
   "metadata": {},
   "outputs": [],
   "source": [
    "# save neural network structure to JSON (no weights)\n",
    "model_json = l2_model.to_json()\n",
    "with open(os.path.join(path,\"R16_4_model.json\"), \"w\") as json_file:\n",
    "    json_file.write(model_json)"
   ]
  },
  {
   "cell_type": "code",
   "execution_count": 55,
   "metadata": {},
   "outputs": [],
   "source": [
    "# save neural network structure to YAML (no weights)\n",
    "model_yaml = l2_model.to_yaml()\n",
    "with open(os.path.join(path,\"R16_4_model.yaml\"), \"w\") as yaml_file:\n",
    "    yaml_file.write(model_yaml)"
   ]
  },
  {
   "cell_type": "code",
   "execution_count": 56,
   "metadata": {},
   "outputs": [],
   "source": [
    "# save entire network to HDF5 (save everything, suggested)# save e \n",
    "l2_model.save(os.path.join(path,\"R16_4_model.h5\"))"
   ]
  },
  {
   "cell_type": "code",
   "execution_count": 57,
   "metadata": {},
   "outputs": [
    {
     "name": "stdout",
     "output_type": "stream",
     "text": [
      "After load score (RMSE): 0.06179037023349529\n"
     ]
    }
   ],
   "source": [
    "from keras.models import load_model\n",
    "model2 = load_model(os.path.join(path,\"R16_4_model.h5\"))\n",
    "pred = model2.predict(test_data)\n",
    "# Measure RMSE error.  RMSE is common for regression.\n",
    "score = np.sqrt(metrics.mean_squared_error(pred,test_labels))\n",
    "print(f\"After load score (RMSE): {score}\")"
   ]
  },
  {
   "cell_type": "code",
   "execution_count": 58,
   "metadata": {},
   "outputs": [
    {
     "data": {
      "text/plain": [
       "<keras.regularizers.L1L2 at 0x7f318017a978>"
      ]
     },
     "execution_count": 58,
     "metadata": {},
     "output_type": "execute_result"
    }
   ],
   "source": [
    "from keras import regularizers\n",
    "\n",
    "# L1 regularization\n",
    "regularizers.l1(0.001)\n",
    "\n",
    "# L1 and L2 regularization at the same time\n",
    "regularizers.l1_l2(l1=0.001, l2=0.001)"
   ]
  },
  {
   "cell_type": "code",
   "execution_count": 59,
   "metadata": {},
   "outputs": [],
   "source": [
    "dpt_model = models.Sequential()\n",
    "dpt_model.add(layers.Dense(16, activation='relu', input_shape=(5,)))\n",
    "dpt_model.add(layers.Dropout(0.5))\n",
    "dpt_model.add(layers.Dense(16, activation='relu'))\n",
    "dpt_model.add(layers.Dropout(0.5))\n",
    "dpt_model.add(layers.Dense(1, activation='relu'))\n",
    "\n",
    "dpt_model.compile(optimizer='rmsprop',\n",
    "                  loss='mse',\n",
    "                  metrics=['mae'])"
   ]
  },
  {
   "cell_type": "code",
   "execution_count": 60,
   "metadata": {},
   "outputs": [
    {
     "name": "stdout",
     "output_type": "stream",
     "text": [
      "Train on 79346 samples, validate on 39081 samples\n",
      "Epoch 1/20\n",
      "79346/79346 [==============================] - 1s 10us/step - loss: 0.0650 - mean_absolute_error: 0.1898 - val_loss: 0.0173 - val_mean_absolute_error: 0.1030\n",
      "Epoch 2/20\n",
      "79346/79346 [==============================] - 0s 6us/step - loss: 0.0228 - mean_absolute_error: 0.1128 - val_loss: 0.0093 - val_mean_absolute_error: 0.0677\n",
      "Epoch 3/20\n",
      "79346/79346 [==============================] - 0s 5us/step - loss: 0.0166 - mean_absolute_error: 0.0954 - val_loss: 0.0073 - val_mean_absolute_error: 0.0606\n",
      "Epoch 4/20\n",
      "79346/79346 [==============================] - 0s 6us/step - loss: 0.0138 - mean_absolute_error: 0.0860 - val_loss: 0.0069 - val_mean_absolute_error: 0.0588\n",
      "Epoch 5/20\n",
      "79346/79346 [==============================] - 0s 6us/step - loss: 0.0126 - mean_absolute_error: 0.0819 - val_loss: 0.0068 - val_mean_absolute_error: 0.0597\n",
      "Epoch 6/20\n",
      "79346/79346 [==============================] - 0s 6us/step - loss: 0.0120 - mean_absolute_error: 0.0795 - val_loss: 0.0067 - val_mean_absolute_error: 0.0594\n",
      "Epoch 7/20\n",
      "79346/79346 [==============================] - 0s 6us/step - loss: 0.0114 - mean_absolute_error: 0.0776 - val_loss: 0.0066 - val_mean_absolute_error: 0.0586\n",
      "Epoch 8/20\n",
      "79346/79346 [==============================] - 0s 6us/step - loss: 0.0113 - mean_absolute_error: 0.0768 - val_loss: 0.0065 - val_mean_absolute_error: 0.0592\n",
      "Epoch 9/20\n",
      "79346/79346 [==============================] - 0s 6us/step - loss: 0.0110 - mean_absolute_error: 0.0756 - val_loss: 0.0065 - val_mean_absolute_error: 0.0591\n",
      "Epoch 10/20\n",
      "79346/79346 [==============================] - 0s 6us/step - loss: 0.0107 - mean_absolute_error: 0.0750 - val_loss: 0.0065 - val_mean_absolute_error: 0.0592\n",
      "Epoch 11/20\n",
      "79346/79346 [==============================] - 0s 6us/step - loss: 0.0107 - mean_absolute_error: 0.0745 - val_loss: 0.0066 - val_mean_absolute_error: 0.0592\n",
      "Epoch 12/20\n",
      "79346/79346 [==============================] - 0s 6us/step - loss: 0.0105 - mean_absolute_error: 0.0741 - val_loss: 0.0064 - val_mean_absolute_error: 0.0580\n",
      "Epoch 13/20\n",
      "79346/79346 [==============================] - 0s 6us/step - loss: 0.0104 - mean_absolute_error: 0.0736 - val_loss: 0.0064 - val_mean_absolute_error: 0.0581\n",
      "Epoch 14/20\n",
      "79346/79346 [==============================] - 0s 6us/step - loss: 0.0103 - mean_absolute_error: 0.0734 - val_loss: 0.0066 - val_mean_absolute_error: 0.0597\n",
      "Epoch 15/20\n",
      "79346/79346 [==============================] - 0s 6us/step - loss: 0.0104 - mean_absolute_error: 0.0736 - val_loss: 0.0064 - val_mean_absolute_error: 0.0580\n",
      "Epoch 16/20\n",
      "79346/79346 [==============================] - 0s 6us/step - loss: 0.0103 - mean_absolute_error: 0.0732 - val_loss: 0.0064 - val_mean_absolute_error: 0.0591\n",
      "Epoch 17/20\n",
      "79346/79346 [==============================] - 0s 5us/step - loss: 0.0103 - mean_absolute_error: 0.0732 - val_loss: 0.0063 - val_mean_absolute_error: 0.0584\n",
      "Epoch 18/20\n",
      "79346/79346 [==============================] - 0s 6us/step - loss: 0.0104 - mean_absolute_error: 0.0734 - val_loss: 0.0064 - val_mean_absolute_error: 0.0583\n",
      "Epoch 19/20\n",
      "79346/79346 [==============================] - 0s 6us/step - loss: 0.0102 - mean_absolute_error: 0.0732 - val_loss: 0.0063 - val_mean_absolute_error: 0.0576\n",
      "Epoch 20/20\n",
      "79346/79346 [==============================] - 0s 6us/step - loss: 0.0102 - mean_absolute_error: 0.0727 - val_loss: 0.0064 - val_mean_absolute_error: 0.0576\n"
     ]
    }
   ],
   "source": [
    "dpt_model_hist = dpt_model.fit(x_train, y_train,\n",
    "                               epochs=20,\n",
    "                               batch_size=512,\n",
    "                               validation_data=(x_test, y_test))"
   ]
  },
  {
   "cell_type": "code",
   "execution_count": 68,
   "metadata": {},
   "outputs": [],
   "source": [
    "# Predict# Predic \n",
    "pred = dpt_model.predict(test_data)"
   ]
  },
  {
   "cell_type": "code",
   "execution_count": 69,
   "metadata": {},
   "outputs": [
    {
     "name": "stdout",
     "output_type": "stream",
     "text": [
      "Before save score (RMSE): 0.07976824504799956\n"
     ]
    }
   ],
   "source": [
    "# Measure RMSE error.  RMSE is common for regression.\n",
    "score = np.sqrt(metrics.mean_squared_error(pred,test_labels))\n",
    "print(f\"Before save score (RMSE): {score}\")"
   ]
  },
  {
   "cell_type": "code",
   "execution_count": 70,
   "metadata": {},
   "outputs": [],
   "source": [
    "# save neural network structure to JSON (no weights)\n",
    "model_json = dpt_model.to_json()\n",
    "with open(os.path.join(path,\"R14_5_model.json\"), \"w\") as json_file:\n",
    "    json_file.write(model_json)"
   ]
  },
  {
   "cell_type": "code",
   "execution_count": 71,
   "metadata": {},
   "outputs": [],
   "source": [
    "# save neural network structure to YAML (no weights)\n",
    "model_yaml = dpt_model.to_yaml()\n",
    "with open(os.path.join(path,\"R14_5_model.yaml\"), \"w\") as yaml_file:\n",
    "    yaml_file.write(model_yaml)"
   ]
  },
  {
   "cell_type": "code",
   "execution_count": 72,
   "metadata": {},
   "outputs": [],
   "source": [
    "# save entire network to HDF5 (save everything, suggested)# save e \n",
    "dpt_model.save(os.path.join(path,\"R14_5_model.h5\"))"
   ]
  },
  {
   "cell_type": "code",
   "execution_count": 73,
   "metadata": {},
   "outputs": [
    {
     "name": "stdout",
     "output_type": "stream",
     "text": [
      "After load score (RMSE): 0.07976824504799956\n"
     ]
    }
   ],
   "source": [
    "from keras.models import load_model\n",
    "model2 = load_model(os.path.join(path,\"R14_5_model.h5\"))\n",
    "pred = model2.predict(test_data)\n",
    "# Measure RMSE error.  RMSE is common for regression.\n",
    "score = np.sqrt(metrics.mean_squared_error(pred,test_labels))\n",
    "print(f\"After load score (RMSE): {score}\")"
   ]
  }
 ],
 "metadata": {
  "kernelspec": {
   "display_name": "Python 3",
   "language": "python",
   "name": "python3"
  },
  "language_info": {
   "codemirror_mode": {
    "name": "ipython",
    "version": 3
   },
   "file_extension": ".py",
   "mimetype": "text/x-python",
   "name": "python",
   "nbconvert_exporter": "python",
   "pygments_lexer": "ipython3",
   "version": "3.6.6"
  }
 },
 "nbformat": 4,
 "nbformat_minor": 2
}

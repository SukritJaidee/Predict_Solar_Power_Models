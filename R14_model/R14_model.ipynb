{
 "cells": [
  {
   "cell_type": "code",
   "execution_count": 1,
   "metadata": {},
   "outputs": [
    {
     "name": "stdout",
     "output_type": "stream",
     "text": [
      "ln: failed to create symbolic link './data': File exists\n",
      "ln: failed to create symbolic link './out': File exists\n"
     ]
    }
   ],
   "source": [
    "!ln -s ../data/ ./\n",
    "!ln -s ../out/ ."
   ]
  },
  {
   "cell_type": "code",
   "execution_count": 34,
   "metadata": {},
   "outputs": [
    {
     "data": {
      "text/plain": [
       "'1.8.0'"
      ]
     },
     "execution_count": 34,
     "metadata": {},
     "output_type": "execute_result"
    }
   ],
   "source": [
    "from __future__ import absolute_import, division, print_function\n",
    "\n",
    "import os\n",
    "\n",
    "import tensorflow as tf\n",
    "from tensorflow import keras\n",
    "import pandas as pd\n",
    "import numpy as np\n",
    "\n",
    "from sklearn.model_selection import train_test_split\n",
    "from sklearn.preprocessing import MinMaxScaler\n",
    "from sklearn import metrics\n",
    "\n",
    "tf.__version__"
   ]
  },
  {
   "cell_type": "code",
   "execution_count": 36,
   "metadata": {},
   "outputs": [],
   "source": [
    "path = \"./data/\""
   ]
  },
  {
   "cell_type": "code",
   "execution_count": 2,
   "metadata": {},
   "outputs": [],
   "source": [
    "train = pd.read_csv('data/Train_data/dataset_rev4_train.csv')\n",
    "\n",
    "#Remove column ที่มี type เป็น object นั่นคือคอลัม datetime, date, และ time\n",
    "train = train.select_dtypes(exclude=['object'])\n",
    "\n",
    "#แทนที่ misssing value ด้วย 0\n",
    "train.fillna(0,inplace=True)"
   ]
  },
  {
   "cell_type": "code",
   "execution_count": 3,
   "metadata": {},
   "outputs": [],
   "source": [
    "#โหลด csv ไพล์สำหรับเป็น unseen data เพื่อใช้ทดสอบโมเดล#โหลด cs \n",
    "test = pd.read_csv('data/test_data/dataset_rev4_test.csv')\n",
    "\n",
    "#เก็บ column datetime ไว้ในตัวแปรที่ชื่อ buffer_datetime_train เพื่อ ...\n",
    "buffer_datetime_test = test.datetime\n",
    "\n",
    "#Remove column ที่มี type เป็น object\n",
    "test = test.select_dtypes(exclude=['object'])\n",
    "\n",
    "#แทนที่ misssing value ด้วย 0\n",
    "test.fillna(0,inplace=True)"
   ]
  },
  {
   "cell_type": "code",
   "execution_count": 4,
   "metadata": {},
   "outputs": [
    {
     "name": "stdout",
     "output_type": "stream",
     "text": [
      "dimension of train: (131586, 6)\n",
      "dimension of test: (16147, 5)\n"
     ]
    }
   ],
   "source": [
    "print('dimension of train:', train.shape)\n",
    "print('dimension of test:', test.shape)"
   ]
  },
  {
   "cell_type": "code",
   "execution_count": 5,
   "metadata": {},
   "outputs": [
    {
     "name": "stdout",
     "output_type": "stream",
     "text": [
      "features: ['I', 'T', 'UV', 'WS', 'RH', 'P']\n"
     ]
    }
   ],
   "source": [
    "print(\"features:\",list(train.columns))"
   ]
  },
  {
   "cell_type": "code",
   "execution_count": 6,
   "metadata": {},
   "outputs": [
    {
     "name": "stdout",
     "output_type": "stream",
     "text": [
      "Number of Outliers: 13159\n",
      "Number of rows without outliers: 118427\n"
     ]
    }
   ],
   "source": [
    "#import library ที่ชื่อ IsolationForest\n",
    "from sklearn.ensemble import IsolationForest\n",
    "\n",
    "clf = IsolationForest(max_samples = 100, random_state = 42)\n",
    "\n",
    "clf.fit(train)\n",
    "\n",
    "y_noano = clf.predict(train)\n",
    "\n",
    "y_noano = pd.DataFrame(y_noano, columns = ['Top'])\n",
    "\n",
    "y_noano[y_noano['Top'] == 1].index.values\n",
    "\n",
    "train = train.iloc[y_noano[y_noano['Top'] == 1].index.values]\n",
    "\n",
    "train.reset_index(drop = True, inplace = True)\n",
    "\n",
    "#จำนวนของ Outliers\n",
    "print(\"Number of Outliers:\", y_noano[y_noano['Top'] == -1].shape[0])\n",
    "\n",
    "#จำนวนของแถวที่ไม่มี outliers\n",
    "print(\"Number of rows without outliers:\", train.shape[0])"
   ]
  },
  {
   "cell_type": "code",
   "execution_count": 7,
   "metadata": {},
   "outputs": [],
   "source": [
    "#import libray ที่ชื่อ warnings\n",
    "import warnings\n",
    "\n",
    "#ใช้ class ที่ชื่อว่า filterwarnings\n",
    "warnings.filterwarnings('ignore')\n",
    "\n",
    "#สร้าง list ของคอลัมในแปร train เก็บไว้ในตัวแปร col_train \n",
    "col_train = list(train.columns)\n",
    "\n",
    "#สร้าง list ของคอลัมในแปร train เก็บไว้ในตัวแปร col_train_bis\n",
    "col_train_bis = list(train.columns)\n",
    "\n",
    "#ใน list ของตัวแปรที่ชื่อ col_train_bis ลบ element ที่ชื่อ P ออก\n",
    "col_train_bis.remove('P')\n",
    "\n",
    "#แปลง type ของตัวแปร train จาก dataframe เป็น matrix\n",
    "mat_train = np.matrix(train)\n",
    "\n",
    "#แปลง type ของตัวแปร test จาก dataframe เป็น matrix\n",
    "mat_test  = np.matrix(test)\n",
    "\n",
    "#Drop คอลัม P ในตัวแปร train แล้วเปลี่ยน type ของ train จาก dataframe เป็น matrix แล้วเก็บในตัวแปรที่ชื่อ mat_new\n",
    "mat_new = np.matrix(train.drop('P',axis = 1))\n",
    "\n",
    "#เอาคอลัมที่ชื่อ P ในตัวแปร train มาแปลงให้เป็น array แล้ว reshape ให้เป็น (118427,1) เก็บไว้ในตัวปรที่ชื่อ mat_y\n",
    "mat_y = np.array(train.P).reshape((118427,1))\n",
    "\n",
    "#ให้ prepro_y เป็นฟังก์ชัน MinMaxScaler()\n",
    "prepro_y = MinMaxScaler()\n",
    "\n",
    "#คำนวณ μ และ σ ของ mat_y\n",
    "prepro_y.fit(mat_y)\n",
    "\n",
    "#ให้ prepro เป็นฟังก์ชัน MinMaxScaler()\n",
    "prepro = MinMaxScaler()\n",
    "\n",
    "#คำนวณ μ และ σ ของ mat_train\n",
    "prepro.fit(mat_train)\n",
    "\n",
    "#ให้ prepro_test เป็นฟังก์ชัน MinMaxScaler()\n",
    "prepro_test = MinMaxScaler()\n",
    "\n",
    "#คำนวณ μ และ σ ของ mat_new\n",
    "prepro_test.fit(mat_new)\n",
    "\n",
    "#นำ μ และ σ ของ prepro กระทำกับทุก element ใน mat_train แล้วสร้างเป็น data frame ที่มีชื่อคอลัมตาม list col_train และเก็บใส่ตัวแปร train\n",
    "train = pd.DataFrame(prepro.transform(mat_train),columns = col_train)\n",
    "\n",
    "#นำ μ และ σ ของ prepro_test กระทำกับทุก element ใน mat_train แล้วสร้างเป็น data frame ที่มีชื่อคอลัมตาม list col_train และเก็บใส่ตัวแปร train\n",
    "test  = pd.DataFrame(prepro_test.transform(mat_test),columns = col_train_bis)"
   ]
  },
  {
   "cell_type": "code",
   "execution_count": 8,
   "metadata": {},
   "outputs": [],
   "source": [
    "# สร้าง List ของ features\n",
    "\n",
    "#นำ list ของคอลัม ที่อยู่ในตัวแปร col_train มาไว้ในตัวแปร COLUMNS\n",
    "COLUMNS = col_train\n",
    "\n",
    "#นำ list ของคอลัม ที่อยู่ในตัวแปร col_train_bis มาไว้ในตัวแปร FEATURES\n",
    "FEATURES = col_train_bis  #column train-label (x test)</font>\n",
    "\n",
    "#นำตัวแปร P มาเก็บไว้ในตัวแปร LABEL\n",
    "LABEL = \"P\"\n",
    "\n",
    "# สร้าง list ของ feature\n",
    "feature_cols = FEATURES \n",
    "\n",
    "# สร้าง Training set และ Prediction set \n",
    "training_set = train[COLUMNS] \n",
    "prediction_set = train.P"
   ]
  },
  {
   "cell_type": "code",
   "execution_count": 10,
   "metadata": {},
   "outputs": [
    {
     "name": "stdout",
     "output_type": "stream",
     "text": [
      "<class 'pandas.core.frame.DataFrame'>\n",
      "<class 'pandas.core.series.Series'>\n"
     ]
    }
   ],
   "source": [
    "print(type(training_set))\n",
    "print(type(prediction_set))"
   ]
  },
  {
   "cell_type": "code",
   "execution_count": 12,
   "metadata": {},
   "outputs": [],
   "source": [
    "train_data, test_data, train_labels, test_labels = train_test_split(training_set[FEATURES] , prediction_set, test_size=0.33, random_state=42)"
   ]
  },
  {
   "cell_type": "code",
   "execution_count": 13,
   "metadata": {},
   "outputs": [
    {
     "name": "stdout",
     "output_type": "stream",
     "text": [
      "<class 'pandas.core.frame.DataFrame'>\n",
      "<class 'pandas.core.frame.DataFrame'>\n",
      "<class 'pandas.core.series.Series'>\n",
      "<class 'pandas.core.series.Series'>\n"
     ]
    }
   ],
   "source": [
    "print(type(train_data))\n",
    "print(type(test_data))\n",
    "print(type(train_labels))\n",
    "print(type(test_labels))"
   ]
  },
  {
   "cell_type": "code",
   "execution_count": 15,
   "metadata": {},
   "outputs": [
    {
     "name": "stdout",
     "output_type": "stream",
     "text": [
      "(79346, 5)\n",
      "(39081, 5)\n",
      "(79346,)\n",
      "(39081,)\n"
     ]
    }
   ],
   "source": [
    "print(train_data.shape)\n",
    "print(test_data.shape)\n",
    "print(train_labels.shape)\n",
    "print(test_labels.shape)"
   ]
  },
  {
   "cell_type": "code",
   "execution_count": 16,
   "metadata": {},
   "outputs": [],
   "source": [
    "train_data = train_data.values\n",
    "test_data = test_data.values\n",
    "train_labels = train_labels.values\n",
    "test_labels = test_labels.values"
   ]
  },
  {
   "cell_type": "code",
   "execution_count": 17,
   "metadata": {},
   "outputs": [],
   "source": [
    "order = np.argsort(np.random.random(train_labels.shape))\n",
    "train_data = train_data[order]\n",
    "train_labels = train_labels[order]"
   ]
  },
  {
   "cell_type": "code",
   "execution_count": 18,
   "metadata": {},
   "outputs": [
    {
     "name": "stdout",
     "output_type": "stream",
     "text": [
      "Training set: (79346, 5)\n",
      "Testing set:  (39081, 5)\n"
     ]
    }
   ],
   "source": [
    "print(\"Training set: {}\".format(train_data.shape))  \n",
    "print(\"Testing set:  {}\".format(test_data.shape))"
   ]
  },
  {
   "cell_type": "code",
   "execution_count": 20,
   "metadata": {},
   "outputs": [
    {
     "data": {
      "text/html": [
       "<div>\n",
       "<style scoped>\n",
       "    .dataframe tbody tr th:only-of-type {\n",
       "        vertical-align: middle;\n",
       "    }\n",
       "\n",
       "    .dataframe tbody tr th {\n",
       "        vertical-align: top;\n",
       "    }\n",
       "\n",
       "    .dataframe thead th {\n",
       "        text-align: right;\n",
       "    }\n",
       "</style>\n",
       "<table border=\"1\" class=\"dataframe\">\n",
       "  <thead>\n",
       "    <tr style=\"text-align: right;\">\n",
       "      <th></th>\n",
       "      <th>I</th>\n",
       "      <th>T</th>\n",
       "      <th>UV</th>\n",
       "      <th>WS</th>\n",
       "      <th>RH</th>\n",
       "    </tr>\n",
       "  </thead>\n",
       "  <tbody>\n",
       "    <tr>\n",
       "      <th>0</th>\n",
       "      <td>0.174312</td>\n",
       "      <td>0.444444</td>\n",
       "      <td>0.039216</td>\n",
       "      <td>0.422652</td>\n",
       "      <td>0.725225</td>\n",
       "    </tr>\n",
       "    <tr>\n",
       "      <th>1</th>\n",
       "      <td>0.062385</td>\n",
       "      <td>0.020576</td>\n",
       "      <td>0.019608</td>\n",
       "      <td>0.099448</td>\n",
       "      <td>0.896396</td>\n",
       "    </tr>\n",
       "  </tbody>\n",
       "</table>\n",
       "</div>"
      ],
      "text/plain": [
       "          I         T        UV        WS        RH\n",
       "0  0.174312  0.444444  0.039216  0.422652  0.725225\n",
       "1  0.062385  0.020576  0.019608  0.099448  0.896396"
      ]
     },
     "execution_count": 20,
     "metadata": {},
     "output_type": "execute_result"
    }
   ],
   "source": [
    "column_names = ['I', 'T', 'UV', 'WS', 'RH']\n",
    "df = pd.DataFrame(train_data, columns=column_names)\n",
    "df.head(2)"
   ]
  },
  {
   "cell_type": "code",
   "execution_count": 21,
   "metadata": {},
   "outputs": [
    {
     "name": "stdout",
     "output_type": "stream",
     "text": [
      "[0.09016393 0.04918033 0.30327869 0.09836066 0.57786885 0.42213115\n",
      " 0.31147541 0.70491803 0.22131148 0.        ]\n"
     ]
    }
   ],
   "source": [
    "print(train_labels[0:10])  # Display first 10 entries"
   ]
  },
  {
   "cell_type": "code",
   "execution_count": 24,
   "metadata": {},
   "outputs": [
    {
     "name": "stdout",
     "output_type": "stream",
     "text": [
      "_________________________________________________________________\n",
      "Layer (type)                 Output Shape              Param #   \n",
      "=================================================================\n",
      "dense_1 (Dense)              (None, 64)                384       \n",
      "_________________________________________________________________\n",
      "dense_2 (Dense)              (None, 64)                4160      \n",
      "_________________________________________________________________\n",
      "dense_3 (Dense)              (None, 1)                 65        \n",
      "=================================================================\n",
      "Total params: 4,609\n",
      "Trainable params: 4,609\n",
      "Non-trainable params: 0\n",
      "_________________________________________________________________\n"
     ]
    }
   ],
   "source": [
    "def build_model():\n",
    "  model = keras.Sequential([\n",
    "    keras.layers.Dense(64, activation=tf.nn.relu, input_shape=(train_data.shape[1],)),\n",
    "    keras.layers.Dense(64, activation=tf.nn.relu),\n",
    "    keras.layers.Dense(1)\n",
    "  ])\n",
    "\n",
    "  optimizer = tf.train.RMSPropOptimizer(0.001)\n",
    "\n",
    "  model.compile(loss='mse',\n",
    "                optimizer=optimizer,\n",
    "                metrics=['mae'])\n",
    "  return model\n",
    "\n",
    "model = build_model()\n",
    "model.summary()"
   ]
  },
  {
   "cell_type": "code",
   "execution_count": 25,
   "metadata": {},
   "outputs": [
    {
     "name": "stdout",
     "output_type": "stream",
     "text": [
      "\n",
      "....................................................................................................\n",
      "....................................................................................................\n",
      "....................................................................................................\n",
      "....................................................................................................\n",
      "...................................................................................................."
     ]
    }
   ],
   "source": [
    "# Display training progress by printing a single dot for each completed epoch.\n",
    "class PrintDot(keras.callbacks.Callback):\n",
    "  def on_epoch_end(self,epoch,logs):\n",
    "    if epoch % 100 == 0: print('')\n",
    "    print('.', end='')\n",
    "\n",
    "EPOCHS = 500\n",
    "\n",
    "# Store training stats\n",
    "history = model.fit(train_data, train_labels, epochs=EPOCHS,\n",
    "                    validation_split=0.2, verbose=0,\n",
    "                    callbacks=[PrintDot()])"
   ]
  },
  {
   "cell_type": "code",
   "execution_count": 28,
   "metadata": {},
   "outputs": [
    {
     "data": {
      "image/png": "[encoded data removed]",
      "text/plain": [
       "<Figure size 432x288 with 1 Axes>"
      ]
     },
     "metadata": {},
     "output_type": "display_data"
    }
   ],
   "source": [
    "import matplotlib.pyplot as plt\n",
    "\n",
    "def plot_history(history):\n",
    "  plt.figure()\n",
    "  plt.xlabel('Epoch')\n",
    "  plt.ylabel('Mean Abs Error')\n",
    "  plt.plot(history.epoch, np.array(history.history['mean_absolute_error']), \n",
    "           label='Train Loss')\n",
    "  plt.plot(history.epoch, np.array(history.history['val_mean_absolute_error']),\n",
    "           label = 'Val loss')\n",
    "  plt.legend()\n",
    "  plt.ylim([0.03,0.05])\n",
    "\n",
    "plot_history(history)"
   ]
  },
  {
   "cell_type": "code",
   "execution_count": 30,
   "metadata": {},
   "outputs": [],
   "source": [
    "# Predict# Predic \n",
    "pred = model.predict(test_data)"
   ]
  },
  {
   "cell_type": "code",
   "execution_count": 35,
   "metadata": {},
   "outputs": [
    {
     "name": "stdout",
     "output_type": "stream",
     "text": [
      "Before save score (RMSE): 0.05982191145682268\n"
     ]
    }
   ],
   "source": [
    "# Measure RMSE error.  RMSE is common for regression.\n",
    "score = np.sqrt(metrics.mean_squared_error(pred,test_labels))\n",
    "print(f\"Before save score (RMSE): {score}\")"
   ]
  },
  {
   "cell_type": "code",
   "execution_count": 37,
   "metadata": {},
   "outputs": [],
   "source": [
    "# save neural network structure to JSON (no weights)\n",
    "model_json = model.to_json()\n",
    "with open(os.path.join(path,\"R14_model.json\"), \"w\") as json_file:\n",
    "    json_file.write(model_json)"
   ]
  },
  {
   "cell_type": "code",
   "execution_count": 38,
   "metadata": {},
   "outputs": [],
   "source": [
    "# save neural network structure to YAML (no weights)\n",
    "model_yaml = model.to_yaml()\n",
    "with open(os.path.join(path,\"R14_model.yaml\"), \"w\") as yaml_file:\n",
    "    yaml_file.write(model_yaml)"
   ]
  },
  {
   "cell_type": "code",
   "execution_count": 39,
   "metadata": {},
   "outputs": [],
   "source": [
    "# save entire network to HDF5 (save everything, suggested)# save e \n",
    "model.save(os.path.join(path,\"R14_model.h5\"))"
   ]
  },
  {
   "cell_type": "code",
   "execution_count": 41,
   "metadata": {},
   "outputs": [
    {
     "name": "stdout",
     "output_type": "stream",
     "text": [
      "After load score (RMSE): 0.05982191145682268\n"
     ]
    }
   ],
   "source": [
    "from keras.models import load_model\n",
    "model2 = load_model(os.path.join(path,\"R14_model.h5\"))\n",
    "pred = model2.predict(test_data)\n",
    "# Measure RMSE error.  RMSE is common for regression.\n",
    "score = np.sqrt(metrics.mean_squared_error(pred,test_labels))\n",
    "print(f\"After load score (RMSE): {score}\")"
   ]
  },
  {
   "cell_type": "markdown",
   "metadata": {},
   "source": [
    "# The patience parameter is the amount of epochs to check for improvement"
   ]
  },
  {
   "cell_type": "code",
   "execution_count": 42,
   "metadata": {},
   "outputs": [
    {
     "name": "stdout",
     "output_type": "stream",
     "text": [
      "\n",
      "........................................."
     ]
    },
    {
     "data": {
      "image/png": "[encoded data removed]",
      "text/plain": [
       "<Figure size 432x288 with 1 Axes>"
      ]
     },
     "metadata": {},
     "output_type": "display_data"
    }
   ],
   "source": [
    "model_14_2 = build_model()\n",
    "\n",
    "early_stop = keras.callbacks.EarlyStopping(monitor='val_loss', patience=20)\n",
    "\n",
    "history_14_2 = model_14_2.fit(train_data, train_labels, epochs=EPOCHS,\n",
    "                    validation_split=0.2, verbose=0,\n",
    "                    callbacks=[early_stop, PrintDot()])\n",
    "\n",
    "plot_history(history_14_2)"
   ]
  },
  {
   "cell_type": "code",
   "execution_count": 43,
   "metadata": {},
   "outputs": [],
   "source": [
    "# Predict# Predic \n",
    "pred = model_14_2.predict(test_data)"
   ]
  },
  {
   "cell_type": "code",
   "execution_count": 44,
   "metadata": {},
   "outputs": [
    {
     "name": "stdout",
     "output_type": "stream",
     "text": [
      "Before save score (RMSE): 0.05817247021864683\n"
     ]
    }
   ],
   "source": [
    "# Measure RMSE error.  RMSE is common for regression.\n",
    "score = np.sqrt(metrics.mean_squared_error(pred,test_labels))\n",
    "print(f\"Before save score (RMSE): {score}\")"
   ]
  },
  {
   "cell_type": "code",
   "execution_count": 45,
   "metadata": {},
   "outputs": [],
   "source": [
    "# save neural network structure to JSON (no weights)\n",
    "model_json = model.to_json()\n",
    "with open(os.path.join(path,\"R14_2_model.json\"), \"w\") as json_file:\n",
    "    json_file.write(model_json)"
   ]
  },
  {
   "cell_type": "code",
   "execution_count": 46,
   "metadata": {},
   "outputs": [],
   "source": [
    "# save neural network structure to YAML (no weights)\n",
    "model_yaml = model.to_yaml()\n",
    "with open(os.path.join(path,\"R14_2_model.yaml\"), \"w\") as yaml_file:\n",
    "    yaml_file.write(model_yaml)"
   ]
  },
  {
   "cell_type": "code",
   "execution_count": 47,
   "metadata": {},
   "outputs": [],
   "source": [
    "# save entire network to HDF5 (save everything, suggested)# save e \n",
    "model.save(os.path.join(path,\"R14_2_model.h5\"))"
   ]
  },
  {
   "cell_type": "code",
   "execution_count": 48,
   "metadata": {},
   "outputs": [
    {
     "name": "stdout",
     "output_type": "stream",
     "text": [
      "After load score (RMSE): 0.05982191145682268\n"
     ]
    }
   ],
   "source": [
    "from keras.models import load_model\n",
    "model2 = load_model(os.path.join(path,\"R14_2_model.h5\"))\n",
    "pred = model2.predict(test_data)\n",
    "# Measure RMSE error.  RMSE is common for regression.\n",
    "score = np.sqrt(metrics.mean_squared_error(pred,test_labels))\n",
    "print(f\"After load score (RMSE): {score}\")"
   ]
  }
 ],
 "metadata": {
  "kernelspec": {
   "display_name": "Python 3",
   "language": "python",
   "name": "python3"
  },
  "language_info": {
   "codemirror_mode": {
    "name": "ipython",
    "version": 3
   },
   "file_extension": ".py",
   "mimetype": "text/x-python",
   "name": "python",
   "nbconvert_exporter": "python",
   "pygments_lexer": "ipython3",
   "version": "3.6.6"
  }
 },
 "nbformat": 4,
 "nbformat_minor": 2
}

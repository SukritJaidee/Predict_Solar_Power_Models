{
 "cells": [
  {
   "cell_type": "code",
   "execution_count": 19,
   "metadata": {},
   "outputs": [],
   "source": [
    "import os\n",
    "import keras\n",
    "from __future__ import absolute_import\n",
    "from __future__ import division\n",
    "from __future__ import print_function\n",
    "\n",
    "import itertools\n",
    "from sklearn import metrics\n",
    "\n",
    "import pandas as pd\n",
    "import numpy as np\n",
    "import matplotlib.pyplot as plt\n",
    "from pylab import rcParams\n",
    "import matplotlib\n",
    "\n",
    "from sklearn.model_selection import train_test_split\n",
    "from sklearn.preprocessing import MinMaxScaler\n",
    "\n",
    "import numpy as np\n",
    "from keras.models import Sequential\n",
    "from keras.layers import Dense\n",
    "from keras.wrappers.scikit_learn import KerasRegressor"
   ]
  },
  {
   "cell_type": "code",
   "execution_count": 24,
   "metadata": {},
   "outputs": [],
   "source": [
    "path = \"./data/\""
   ]
  },
  {
   "cell_type": "code",
   "execution_count": 2,
   "metadata": {},
   "outputs": [],
   "source": [
    "train = pd.read_csv('data/Train_data/dataset_rev4_train.csv')\n",
    "#remove object\n",
    "train = train.select_dtypes(exclude=['object'])\n",
    "#replace misssing value\n",
    "train.fillna(0,inplace=True)"
   ]
  },
  {
   "cell_type": "code",
   "execution_count": 3,
   "metadata": {},
   "outputs": [],
   "source": [
    "test = pd.read_csv('data/test_data/dataset_rev4_test.csv')\n",
    "#buffer datetime\n",
    "buffer_datetime_test = test.datetime\n",
    "#remove object\n",
    "test = test.select_dtypes(exclude=['object'])\n",
    "#replace misssing value\n",
    "test.fillna(0,inplace=True)"
   ]
  },
  {
   "cell_type": "code",
   "execution_count": 4,
   "metadata": {},
   "outputs": [
    {
     "name": "stdout",
     "output_type": "stream",
     "text": [
      "dimension of train: (131586, 6)\n",
      "dimension of test: (16147, 5)\n"
     ]
    }
   ],
   "source": [
    "print('dimension of train:', train.shape)\n",
    "print('dimension of test:', test.shape)"
   ]
  },
  {
   "cell_type": "code",
   "execution_count": 5,
   "metadata": {},
   "outputs": [
    {
     "name": "stdout",
     "output_type": "stream",
     "text": [
      "features: ['I', 'T', 'UV', 'WS', 'RH', 'P']\n"
     ]
    }
   ],
   "source": [
    "print(\"features:\",list(train.columns))"
   ]
  },
  {
   "cell_type": "code",
   "execution_count": 6,
   "metadata": {},
   "outputs": [
    {
     "name": "stdout",
     "output_type": "stream",
     "text": [
      "Number of Outliers: 13159\n",
      "Number of rows without outliers: 118427\n"
     ]
    }
   ],
   "source": [
    "from sklearn.ensemble import IsolationForest\n",
    "clf = IsolationForest(max_samples = 100, random_state = 42)\n",
    "clf.fit(train)\n",
    "y_noano = clf.predict(train)\n",
    "y_noano = pd.DataFrame(y_noano, columns = ['Top'])\n",
    "y_noano[y_noano['Top'] == 1].index.values\n",
    "\n",
    "train = train.iloc[y_noano[y_noano['Top'] == 1].index.values]\n",
    "train.reset_index(drop = True, inplace = True)\n",
    "print(\"Number of Outliers:\", y_noano[y_noano['Top'] == -1].shape[0])\n",
    "print(\"Number of rows without outliers:\", train.shape[0])"
   ]
  },
  {
   "cell_type": "code",
   "execution_count": 7,
   "metadata": {},
   "outputs": [],
   "source": [
    "import warnings\n",
    "warnings.filterwarnings('ignore')\n",
    "\n",
    "col_train = list(train.columns)\n",
    "col_train_bis = list(train.columns)\n",
    "\n",
    "col_train_bis.remove('P')\n",
    "\n",
    "mat_train = np.matrix(train)\n",
    "mat_test  = np.matrix(test)\n",
    "\n",
    "mat_new = np.matrix(train.drop('P',axis = 1))\n",
    "mat_y = np.array(train.P).reshape((118427,1))\n",
    "\n",
    "prepro_y = MinMaxScaler()\n",
    "prepro_y.fit(mat_y)\n",
    "\n",
    "prepro = MinMaxScaler()\n",
    "prepro.fit(mat_train)\n",
    "\n",
    "prepro_test = MinMaxScaler()\n",
    "prepro_test.fit(mat_new)\n",
    "\n",
    "train = pd.DataFrame(prepro.transform(mat_train),columns = col_train)\n",
    "test  = pd.DataFrame(prepro_test.transform(mat_test),columns = col_train_bis)"
   ]
  },
  {
   "cell_type": "code",
   "execution_count": 8,
   "metadata": {},
   "outputs": [],
   "source": [
    "# List of features\n",
    "COLUMNS = col_train #column train (x train)\n",
    "FEATURES = col_train_bis  #column train-label (x test)\n",
    "LABEL = \"P\"\n",
    "\n",
    "# Columns\n",
    "feature_cols = FEATURES #(x test)\n",
    "\n",
    "# Training set and Prediction set with the features to predict\n",
    "training_set = train[COLUMNS] #column train (x train)\n",
    "prediction_set = train.P # column P"
   ]
  },
  {
   "cell_type": "code",
   "execution_count": 9,
   "metadata": {},
   "outputs": [
    {
     "name": "stdout",
     "output_type": "stream",
     "text": [
      "<class 'pandas.core.frame.DataFrame'>\n",
      "<class 'pandas.core.series.Series'>\n"
     ]
    }
   ],
   "source": [
    "print(type(training_set))\n",
    "print(type(prediction_set))"
   ]
  },
  {
   "cell_type": "code",
   "execution_count": 10,
   "metadata": {},
   "outputs": [],
   "source": [
    "x_train, x_test, y_train, y_test = train_test_split(training_set[FEATURES] , prediction_set, test_size=0.33, random_state=42)"
   ]
  },
  {
   "cell_type": "code",
   "execution_count": 11,
   "metadata": {},
   "outputs": [
    {
     "name": "stdout",
     "output_type": "stream",
     "text": [
      "(79346, 5)\n",
      "(39081, 5)\n",
      "(79346,)\n",
      "(39081,)\n"
     ]
    }
   ],
   "source": [
    "print(x_train.shape)\n",
    "print(x_test.shape)\n",
    "print(y_train.shape)\n",
    "print(y_test.shape)"
   ]
  },
  {
   "cell_type": "code",
   "execution_count": 12,
   "metadata": {},
   "outputs": [],
   "source": [
    "y_train = pd.DataFrame(y_train, columns = [LABEL])\n",
    "training_set = pd.DataFrame(x_train, columns = FEATURES).merge(y_train, left_index = True, right_index = True)\n",
    "training_sub = training_set[col_train]"
   ]
  },
  {
   "cell_type": "code",
   "execution_count": 13,
   "metadata": {},
   "outputs": [],
   "source": [
    "y_test = pd.DataFrame(y_test, columns = [LABEL])\n",
    "testing_set = pd.DataFrame(x_test, columns = FEATURES).merge(y_test, left_index = True, right_index = True)"
   ]
  },
  {
   "cell_type": "code",
   "execution_count": 14,
   "metadata": {},
   "outputs": [],
   "source": [
    "seed = 7\n",
    "np.random.seed(seed)\n",
    "\n",
    "# Model\n",
    "model = Sequential()\n",
    "model.add(Dense(200, input_dim=5, kernel_initializer='normal', activation='relu'))\n",
    "model.add(Dense(100, kernel_initializer='normal', activation='relu'))\n",
    "model.add(Dense(50, kernel_initializer='normal', activation='relu'))\n",
    "model.add(Dense(25, kernel_initializer='normal', activation='relu'))\n",
    "model.add(Dense(1, kernel_initializer='normal'))"
   ]
  },
  {
   "cell_type": "code",
   "execution_count": 15,
   "metadata": {},
   "outputs": [],
   "source": [
    "# Compile model\n",
    "model.compile(loss='mean_squared_error', optimizer=keras.optimizers.Adadelta())"
   ]
  },
  {
   "cell_type": "code",
   "execution_count": 16,
   "metadata": {},
   "outputs": [],
   "source": [
    "feature_cols = training_set[FEATURES]\n",
    "labels = training_set[LABEL].values"
   ]
  },
  {
   "cell_type": "code",
   "execution_count": 17,
   "metadata": {},
   "outputs": [
    {
     "name": "stdout",
     "output_type": "stream",
     "text": [
      "Epoch 1/100\n",
      "79346/79346 [==============================] - 14s 175us/step - loss: 0.0047\n",
      "Epoch 2/100\n",
      "79346/79346 [==============================] - 12s 147us/step - loss: 0.0039\n",
      "Epoch 3/100\n",
      "79346/79346 [==============================] - 11s 133us/step - loss: 0.0038\n",
      "Epoch 4/100\n",
      "79346/79346 [==============================] - 12s 145us/step - loss: 0.0038\n",
      "Epoch 5/100\n",
      "79346/79346 [==============================] - 11s 133us/step - loss: 0.0037\n",
      "Epoch 6/100\n",
      "79346/79346 [==============================] - 13s 159us/step - loss: 0.0037\n",
      "Epoch 7/100\n",
      "79346/79346 [==============================] - 12s 155us/step - loss: 0.0037\n",
      "Epoch 8/100\n",
      "79346/79346 [==============================] - 11s 142us/step - loss: 0.0036\n",
      "Epoch 9/100\n",
      "79346/79346 [==============================] - 11s 135us/step - loss: 0.0036\n",
      "Epoch 10/100\n",
      "79346/79346 [==============================] - 11s 140us/step - loss: 0.0036\n",
      "Epoch 11/100\n",
      "79346/79346 [==============================] - 12s 150us/step - loss: 0.0036\n",
      "Epoch 12/100\n",
      "79346/79346 [==============================] - 12s 150us/step - loss: 0.0035\n",
      "Epoch 13/100\n",
      "79346/79346 [==============================] - 12s 145us/step - loss: 0.0035\n",
      "Epoch 14/100\n",
      "79346/79346 [==============================] - 11s 136us/step - loss: 0.0035\n",
      "Epoch 15/100\n",
      "79346/79346 [==============================] - 11s 143us/step - loss: 0.0035\n",
      "Epoch 16/100\n",
      "79346/79346 [==============================] - 10s 132us/step - loss: 0.0035\n",
      "Epoch 17/100\n",
      "79346/79346 [==============================] - 13s 166us/step - loss: 0.0035\n",
      "Epoch 18/100\n",
      "79346/79346 [==============================] - 11s 134us/step - loss: 0.0035\n",
      "Epoch 19/100\n",
      "79346/79346 [==============================] - 11s 141us/step - loss: 0.0034\n",
      "Epoch 20/100\n",
      "79346/79346 [==============================] - 11s 139us/step - loss: 0.0034\n",
      "Epoch 21/100\n",
      "79346/79346 [==============================] - 11s 141us/step - loss: 0.0034\n",
      "Epoch 22/100\n",
      "79346/79346 [==============================] - 12s 157us/step - loss: 0.0034\n",
      "Epoch 23/100\n",
      "79346/79346 [==============================] - 11s 144us/step - loss: 0.0034\n",
      "Epoch 24/100\n",
      "79346/79346 [==============================] - 12s 148us/step - loss: 0.0034\n",
      "Epoch 25/100\n",
      "79346/79346 [==============================] - 11s 136us/step - loss: 0.0034\n",
      "Epoch 26/100\n",
      "79346/79346 [==============================] - 11s 143us/step - loss: 0.0034\n",
      "Epoch 27/100\n",
      "79346/79346 [==============================] - 11s 143us/step - loss: 0.0034\n",
      "Epoch 28/100\n",
      "79346/79346 [==============================] - 13s 162us/step - loss: 0.0034\n",
      "Epoch 29/100\n",
      "79346/79346 [==============================] - 11s 136us/step - loss: 0.0034\n",
      "Epoch 30/100\n",
      "79346/79346 [==============================] - 11s 142us/step - loss: 0.0034\n",
      "Epoch 31/100\n",
      "79346/79346 [==============================] - 11s 143us/step - loss: 0.0034\n",
      "Epoch 32/100\n",
      "79346/79346 [==============================] - 11s 141us/step - loss: 0.0034\n",
      "Epoch 33/100\n",
      "79346/79346 [==============================] - 13s 170us/step - loss: 0.0034\n",
      "Epoch 34/100\n",
      "79346/79346 [==============================] - 11s 133us/step - loss: 0.0034\n",
      "Epoch 35/100\n",
      "79346/79346 [==============================] - 12s 147us/step - loss: 0.0034\n",
      "Epoch 36/100\n",
      "79346/79346 [==============================] - 11s 133us/step - loss: 0.0034\n",
      "Epoch 37/100\n",
      "79346/79346 [==============================] - 11s 142us/step - loss: 0.0034\n",
      "Epoch 38/100\n",
      "79346/79346 [==============================] - 13s 163us/step - loss: 0.0034\n",
      "Epoch 39/100\n",
      "79346/79346 [==============================] - 12s 147us/step - loss: 0.0034\n",
      "Epoch 40/100\n",
      "79346/79346 [==============================] - 11s 144us/step - loss: 0.0034\n",
      "Epoch 41/100\n",
      "79346/79346 [==============================] - 11s 136us/step - loss: 0.0034\n",
      "Epoch 42/100\n",
      "79346/79346 [==============================] - 11s 143us/step - loss: 0.0034\n",
      "Epoch 43/100\n",
      "79346/79346 [==============================] - 12s 152us/step - loss: 0.0034\n",
      "Epoch 44/100\n",
      "79346/79346 [==============================] - 13s 158us/step - loss: 0.0034\n",
      "Epoch 45/100\n",
      "79346/79346 [==============================] - 11s 137us/step - loss: 0.0034\n",
      "Epoch 46/100\n",
      "79346/79346 [==============================] - 12s 148us/step - loss: 0.0034\n",
      "Epoch 47/100\n",
      "79346/79346 [==============================] - 11s 133us/step - loss: 0.0034\n",
      "Epoch 48/100\n",
      "79346/79346 [==============================] - 12s 152us/step - loss: 0.0033\n",
      "Epoch 49/100\n",
      "79346/79346 [==============================] - 13s 160us/step - loss: 0.0033\n",
      "Epoch 50/100\n",
      "79346/79346 [==============================] - 11s 133us/step - loss: 0.0033\n",
      "Epoch 51/100\n",
      "79346/79346 [==============================] - 12s 147us/step - loss: 0.0033\n",
      "Epoch 52/100\n",
      "79346/79346 [==============================] - 11s 136us/step - loss: 0.0034\n",
      "Epoch 53/100\n",
      "79346/79346 [==============================] - 12s 152us/step - loss: 0.0033\n",
      "Epoch 54/100\n",
      "79346/79346 [==============================] - 13s 164us/step - loss: 0.0033\n",
      "Epoch 55/100\n",
      "79346/79346 [==============================] - 12s 146us/step - loss: 0.0033\n",
      "Epoch 56/100\n",
      "79346/79346 [==============================] - 11s 138us/step - loss: 0.0033\n",
      "Epoch 57/100\n",
      "79346/79346 [==============================] - 11s 138us/step - loss: 0.0033\n",
      "Epoch 58/100\n",
      "79346/79346 [==============================] - 11s 137us/step - loss: 0.0033\n",
      "Epoch 59/100\n",
      "79346/79346 [==============================] - 13s 160us/step - loss: 0.0033\n",
      "Epoch 60/100\n",
      "79346/79346 [==============================] - 12s 148us/step - loss: 0.0033\n",
      "Epoch 61/100\n",
      "79346/79346 [==============================] - 10s 132us/step - loss: 0.0033\n",
      "Epoch 62/100\n",
      "79346/79346 [==============================] - 12s 145us/step - loss: 0.0033\n",
      "Epoch 63/100\n",
      "79346/79346 [==============================] - 10s 132us/step - loss: 0.0033\n",
      "Epoch 64/100\n",
      "79346/79346 [==============================] - 13s 158us/step - loss: 0.0033\n",
      "Epoch 65/100\n",
      "79346/79346 [==============================] - 12s 154us/step - loss: 0.0033\n",
      "Epoch 66/100\n",
      "79346/79346 [==============================] - 11s 141us/step - loss: 0.0033\n",
      "Epoch 67/100\n",
      "79346/79346 [==============================] - 11s 137us/step - loss: 0.0033\n",
      "Epoch 68/100\n",
      "79346/79346 [==============================] - 11s 139us/step - loss: 0.0033\n",
      "Epoch 69/100\n",
      "79346/79346 [==============================] - 12s 149us/step - loss: 0.0033\n",
      "Epoch 70/100\n",
      "79346/79346 [==============================] - 13s 161us/step - loss: 0.0033\n",
      "Epoch 71/100\n",
      "79346/79346 [==============================] - 12s 146us/step - loss: 0.0033\n",
      "Epoch 72/100\n",
      "79346/79346 [==============================] - 11s 139us/step - loss: 0.0033\n",
      "Epoch 73/100\n",
      "79346/79346 [==============================] - 12s 149us/step - loss: 0.0033\n",
      "Epoch 74/100\n",
      "79346/79346 [==============================] - 11s 135us/step - loss: 0.0033\n",
      "Epoch 75/100\n",
      "79346/79346 [==============================] - 13s 170us/step - loss: 0.0033\n",
      "Epoch 76/100\n",
      "79346/79346 [==============================] - 12s 145us/step - loss: 0.0033\n",
      "Epoch 77/100\n",
      "79346/79346 [==============================] - 11s 137us/step - loss: 0.0033\n",
      "Epoch 78/100\n",
      "79346/79346 [==============================] - 11s 143us/step - loss: 0.0033\n",
      "Epoch 79/100\n",
      "79346/79346 [==============================] - 11s 134us/step - loss: 0.0033\n",
      "Epoch 80/100\n",
      "79346/79346 [==============================] - 13s 167us/step - loss: 0.0033\n",
      "Epoch 81/100\n",
      "79346/79346 [==============================] - 11s 143us/step - loss: 0.0033\n",
      "Epoch 82/100\n",
      "79346/79346 [==============================] - 12s 146us/step - loss: 0.0033\n",
      "Epoch 83/100\n",
      "79346/79346 [==============================] - 11s 134us/step - loss: 0.0033\n",
      "Epoch 84/100\n",
      "79346/79346 [==============================] - 12s 146us/step - loss: 0.0033\n",
      "Epoch 85/100\n",
      "79346/79346 [==============================] - 12s 151us/step - loss: 0.0033\n",
      "Epoch 86/100\n",
      "79346/79346 [==============================] - 12s 153us/step - loss: 0.0033\n",
      "Epoch 87/100\n",
      "79346/79346 [==============================] - 12s 146us/step - loss: 0.0033\n",
      "Epoch 88/100\n",
      "79346/79346 [==============================] - 11s 135us/step - loss: 0.0033\n",
      "Epoch 89/100\n",
      "79346/79346 [==============================] - 11s 145us/step - loss: 0.0033\n",
      "Epoch 90/100\n",
      "79346/79346 [==============================] - 11s 140us/step - loss: 0.0033\n",
      "Epoch 91/100\n",
      "79346/79346 [==============================] - 13s 163us/step - loss: 0.0033\n",
      "Epoch 92/100\n",
      "79346/79346 [==============================] - 11s 135us/step - loss: 0.0033\n",
      "Epoch 93/100\n",
      "79346/79346 [==============================] - 12s 147us/step - loss: 0.0033\n",
      "Epoch 94/100\n",
      "79346/79346 [==============================] - 11s 137us/step - loss: 0.0033\n",
      "Epoch 95/100\n",
      "79346/79346 [==============================] - 11s 142us/step - loss: 0.0033\n",
      "Epoch 96/100\n",
      "79346/79346 [==============================] - 13s 161us/step - loss: 0.0033\n",
      "Epoch 97/100\n",
      "79346/79346 [==============================] - 11s 139us/step - loss: 0.0033\n",
      "Epoch 98/100\n",
      "79346/79346 [==============================] - 11s 145us/step - loss: 0.0033\n",
      "Epoch 99/100\n",
      "79346/79346 [==============================] - 10s 131us/step - loss: 0.0033\n",
      "Epoch 100/100\n",
      "79346/79346 [==============================] - 12s 146us/step - loss: 0.0033\n"
     ]
    },
    {
     "data": {
      "text/plain": [
       "<keras.callbacks.History at 0x7f084aa80f60>"
      ]
     },
     "execution_count": 17,
     "metadata": {},
     "output_type": "execute_result"
    }
   ],
   "source": [
    "model.fit(np.array(feature_cols), np.array(labels), epochs=100, batch_size=10)"
   ]
  },
  {
   "cell_type": "code",
   "execution_count": 20,
   "metadata": {},
   "outputs": [
    {
     "name": "stdout",
     "output_type": "stream",
     "text": [
      "Final score (MSE): 0.003421202439713599\n"
     ]
    }
   ],
   "source": [
    "# Predict\n",
    "pred = model.predict(x_test)\n",
    "\n",
    "# Measure MSE error.  \n",
    "score = metrics.mean_squared_error(pred,y_test)\n",
    "print(\"Final score (MSE): {}\".format(score))"
   ]
  },
  {
   "cell_type": "code",
   "execution_count": 21,
   "metadata": {},
   "outputs": [
    {
     "name": "stdout",
     "output_type": "stream",
     "text": [
      "Final score (RMSE): 0.05849104580800038\n"
     ]
    }
   ],
   "source": [
    "# Measure RMSE error.  RMSE is common for regression.\n",
    "score = np.sqrt(metrics.mean_squared_error(pred,y_test))\n",
    "print(\"Final score (RMSE): {}\".format(score))"
   ]
  },
  {
   "cell_type": "code",
   "execution_count": 25,
   "metadata": {},
   "outputs": [],
   "source": [
    "# save entire network to HDF5 (save everything, suggested)\n",
    "model.save(os.path.join(path,\"R13_model.h5\"))"
   ]
  },
  {
   "cell_type": "code",
   "execution_count": 26,
   "metadata": {},
   "outputs": [],
   "source": [
    "# save neural network structure to JSON (no weights)\n",
    "model_json = model.to_json()\n",
    "with open(os.path.join(path,\"R13_model.json\"), \"w\") as json_file:\n",
    "    json_file.write(model_json)"
   ]
  },
  {
   "cell_type": "code",
   "execution_count": 27,
   "metadata": {},
   "outputs": [],
   "source": [
    "# save neural network structure to YAML (no weights)\n",
    "model_yaml = model.to_yaml()\n",
    "with open(os.path.join(path,\"R13_model.yaml\"), \"w\") as yaml_file:\n",
    "    yaml_file.write(model_yaml)"
   ]
  }
 ],
 "metadata": {
  "kernelspec": {
   "display_name": "Python 3",
   "language": "python",
   "name": "python3"
  },
  "language_info": {
   "codemirror_mode": {
    "name": "ipython",
    "version": 3
   },
   "file_extension": ".py",
   "mimetype": "text/x-python",
   "name": "python",
   "nbconvert_exporter": "python",
   "pygments_lexer": "ipython3",
   "version": "3.6.6"
  }
 },
 "nbformat": 4,
 "nbformat_minor": 2
}
